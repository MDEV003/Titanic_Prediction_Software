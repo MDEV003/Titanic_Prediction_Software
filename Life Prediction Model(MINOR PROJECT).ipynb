{
 "cells": [
  {
   "cell_type": "code",
   "execution_count": 49,
   "metadata": {
    "_cell_guid": "79c7e3d0-c299-4dcb-8224-4455121ee9b0",
    "_uuid": "d629ff2d2480ee46fbb7e2d37f6b5fab8052498a",
    "execution": {
     "iopub.execute_input": "2022-09-25T09:34:17.371881Z",
     "iopub.status.busy": "2022-09-25T09:34:17.371362Z",
     "iopub.status.idle": "2022-09-25T09:34:17.386069Z",
     "shell.execute_reply": "2022-09-25T09:34:17.384575Z",
     "shell.execute_reply.started": "2022-09-25T09:34:17.371821Z"
    }
   },
   "outputs": [],
   "source": [
    "#Importing the requied libraries \n",
    "import numpy as np \n",
    "import pandas as pd\n",
    "import re\n",
    "import warnings\n",
    "warnings.filterwarnings('ignore')\n",
    "\n",
    "import seaborn as sns\n",
    "import matplotlib.pyplot as plt\n",
    "%matplotlib inline\n"
   ]
  },
  {
   "cell_type": "code",
   "execution_count": 50,
   "metadata": {
    "_uuid": "cdf53ad9e2624113f2dd673753ff6297167ba9c4",
    "execution": {
     "iopub.execute_input": "2022-09-25T09:34:17.388756Z",
     "iopub.status.busy": "2022-09-25T09:34:17.388053Z",
     "iopub.status.idle": "2022-09-25T09:34:17.410347Z",
     "shell.execute_reply": "2022-09-25T09:34:17.409540Z",
     "shell.execute_reply.started": "2022-09-25T09:34:17.388691Z"
    }
   },
   "outputs": [],
   "source": [
    "#reading the data in the given CSV files\n",
    "train_df = pd.read_csv('train.csv')\n",
    "\n",
    "test_df = pd.read_csv('test.csv')                                                               \n",
    "                       "
   ]
  },
  {
   "cell_type": "code",
   "execution_count": 51,
   "metadata": {
    "_uuid": "1acdc6cb9f6a23616c3009a3115aa3b4fc5a6eed",
    "execution": {
     "iopub.execute_input": "2022-09-25T09:34:17.412220Z",
     "iopub.status.busy": "2022-09-25T09:34:17.411841Z",
     "iopub.status.idle": "2022-09-25T09:34:17.448201Z",
     "shell.execute_reply": "2022-09-25T09:34:17.447184Z",
     "shell.execute_reply.started": "2022-09-25T09:34:17.412150Z"
    },
    "scrolled": true
   },
   "outputs": [
    {
     "data": {
      "text/html": [
       "<div>\n",
       "<style scoped>\n",
       "    .dataframe tbody tr th:only-of-type {\n",
       "        vertical-align: middle;\n",
       "    }\n",
       "\n",
       "    .dataframe tbody tr th {\n",
       "        vertical-align: top;\n",
       "    }\n",
       "\n",
       "    .dataframe thead th {\n",
       "        text-align: right;\n",
       "    }\n",
       "</style>\n",
       "<table border=\"1\" class=\"dataframe\">\n",
       "  <thead>\n",
       "    <tr style=\"text-align: right;\">\n",
       "      <th></th>\n",
       "      <th>PassengerId</th>\n",
       "      <th>Survived</th>\n",
       "      <th>Pclass</th>\n",
       "      <th>Name</th>\n",
       "      <th>Sex</th>\n",
       "      <th>Age</th>\n",
       "      <th>SibSp</th>\n",
       "      <th>Parch</th>\n",
       "      <th>Ticket</th>\n",
       "      <th>Fare</th>\n",
       "      <th>Cabin</th>\n",
       "      <th>Embarked</th>\n",
       "    </tr>\n",
       "  </thead>\n",
       "  <tbody>\n",
       "    <tr>\n",
       "      <th>0</th>\n",
       "      <td>1</td>\n",
       "      <td>0</td>\n",
       "      <td>3</td>\n",
       "      <td>Braund, Mr. Owen Harris</td>\n",
       "      <td>male</td>\n",
       "      <td>22.0</td>\n",
       "      <td>1</td>\n",
       "      <td>0</td>\n",
       "      <td>A/5 21171</td>\n",
       "      <td>7.2500</td>\n",
       "      <td>NaN</td>\n",
       "      <td>S</td>\n",
       "    </tr>\n",
       "    <tr>\n",
       "      <th>1</th>\n",
       "      <td>2</td>\n",
       "      <td>1</td>\n",
       "      <td>1</td>\n",
       "      <td>Cumings, Mrs. John Bradley (Florence Briggs Th...</td>\n",
       "      <td>female</td>\n",
       "      <td>38.0</td>\n",
       "      <td>1</td>\n",
       "      <td>0</td>\n",
       "      <td>PC 17599</td>\n",
       "      <td>71.2833</td>\n",
       "      <td>C85</td>\n",
       "      <td>C</td>\n",
       "    </tr>\n",
       "    <tr>\n",
       "      <th>2</th>\n",
       "      <td>3</td>\n",
       "      <td>1</td>\n",
       "      <td>3</td>\n",
       "      <td>Heikkinen, Miss. Laina</td>\n",
       "      <td>female</td>\n",
       "      <td>26.0</td>\n",
       "      <td>0</td>\n",
       "      <td>0</td>\n",
       "      <td>STON/O2. 3101282</td>\n",
       "      <td>7.9250</td>\n",
       "      <td>NaN</td>\n",
       "      <td>S</td>\n",
       "    </tr>\n",
       "    <tr>\n",
       "      <th>3</th>\n",
       "      <td>4</td>\n",
       "      <td>1</td>\n",
       "      <td>1</td>\n",
       "      <td>Futrelle, Mrs. Jacques Heath (Lily May Peel)</td>\n",
       "      <td>female</td>\n",
       "      <td>35.0</td>\n",
       "      <td>1</td>\n",
       "      <td>0</td>\n",
       "      <td>113803</td>\n",
       "      <td>53.1000</td>\n",
       "      <td>C123</td>\n",
       "      <td>S</td>\n",
       "    </tr>\n",
       "    <tr>\n",
       "      <th>4</th>\n",
       "      <td>5</td>\n",
       "      <td>0</td>\n",
       "      <td>3</td>\n",
       "      <td>Allen, Mr. William Henry</td>\n",
       "      <td>male</td>\n",
       "      <td>35.0</td>\n",
       "      <td>0</td>\n",
       "      <td>0</td>\n",
       "      <td>373450</td>\n",
       "      <td>8.0500</td>\n",
       "      <td>NaN</td>\n",
       "      <td>S</td>\n",
       "    </tr>\n",
       "  </tbody>\n",
       "</table>\n",
       "</div>"
      ],
      "text/plain": [
       "   PassengerId  Survived  Pclass    ...        Fare Cabin  Embarked\n",
       "0            1         0       3    ...      7.2500   NaN         S\n",
       "1            2         1       1    ...     71.2833   C85         C\n",
       "2            3         1       3    ...      7.9250   NaN         S\n",
       "3            4         1       1    ...     53.1000  C123         S\n",
       "4            5         0       3    ...      8.0500   NaN         S\n",
       "\n",
       "[5 rows x 12 columns]"
      ]
     },
     "execution_count": 51,
     "metadata": {},
     "output_type": "execute_result"
    }
   ],
   "source": [
    "#Printing the first five rows of the data of train csv file\n",
    "train_df.head()"
   ]
  },
  {
   "cell_type": "code",
   "execution_count": 52,
   "metadata": {
    "_uuid": "e6e415fddaeb1c501aeab5b16162101b102a8d4f",
    "execution": {
     "iopub.execute_input": "2022-09-25T09:34:17.450171Z",
     "iopub.status.busy": "2022-09-25T09:34:17.449676Z",
     "iopub.status.idle": "2022-09-25T09:34:17.488067Z",
     "shell.execute_reply": "2022-09-25T09:34:17.486642Z",
     "shell.execute_reply.started": "2022-09-25T09:34:17.449997Z"
    },
    "scrolled": true
   },
   "outputs": [
    {
     "data": {
      "text/html": [
       "<div>\n",
       "<style scoped>\n",
       "    .dataframe tbody tr th:only-of-type {\n",
       "        vertical-align: middle;\n",
       "    }\n",
       "\n",
       "    .dataframe tbody tr th {\n",
       "        vertical-align: top;\n",
       "    }\n",
       "\n",
       "    .dataframe thead th {\n",
       "        text-align: right;\n",
       "    }\n",
       "</style>\n",
       "<table border=\"1\" class=\"dataframe\">\n",
       "  <thead>\n",
       "    <tr style=\"text-align: right;\">\n",
       "      <th></th>\n",
       "      <th>PassengerId</th>\n",
       "      <th>Pclass</th>\n",
       "      <th>Name</th>\n",
       "      <th>Sex</th>\n",
       "      <th>Age</th>\n",
       "      <th>SibSp</th>\n",
       "      <th>Parch</th>\n",
       "      <th>Ticket</th>\n",
       "      <th>Fare</th>\n",
       "      <th>Cabin</th>\n",
       "      <th>Embarked</th>\n",
       "    </tr>\n",
       "  </thead>\n",
       "  <tbody>\n",
       "    <tr>\n",
       "      <th>0</th>\n",
       "      <td>892</td>\n",
       "      <td>3</td>\n",
       "      <td>Kelly, Mr. James</td>\n",
       "      <td>male</td>\n",
       "      <td>34.5</td>\n",
       "      <td>0</td>\n",
       "      <td>0</td>\n",
       "      <td>330911</td>\n",
       "      <td>7.8292</td>\n",
       "      <td>NaN</td>\n",
       "      <td>Q</td>\n",
       "    </tr>\n",
       "    <tr>\n",
       "      <th>1</th>\n",
       "      <td>893</td>\n",
       "      <td>3</td>\n",
       "      <td>Wilkes, Mrs. James (Ellen Needs)</td>\n",
       "      <td>female</td>\n",
       "      <td>47.0</td>\n",
       "      <td>1</td>\n",
       "      <td>0</td>\n",
       "      <td>363272</td>\n",
       "      <td>7.0000</td>\n",
       "      <td>NaN</td>\n",
       "      <td>S</td>\n",
       "    </tr>\n",
       "    <tr>\n",
       "      <th>2</th>\n",
       "      <td>894</td>\n",
       "      <td>2</td>\n",
       "      <td>Myles, Mr. Thomas Francis</td>\n",
       "      <td>male</td>\n",
       "      <td>62.0</td>\n",
       "      <td>0</td>\n",
       "      <td>0</td>\n",
       "      <td>240276</td>\n",
       "      <td>9.6875</td>\n",
       "      <td>NaN</td>\n",
       "      <td>Q</td>\n",
       "    </tr>\n",
       "    <tr>\n",
       "      <th>3</th>\n",
       "      <td>895</td>\n",
       "      <td>3</td>\n",
       "      <td>Wirz, Mr. Albert</td>\n",
       "      <td>male</td>\n",
       "      <td>27.0</td>\n",
       "      <td>0</td>\n",
       "      <td>0</td>\n",
       "      <td>315154</td>\n",
       "      <td>8.6625</td>\n",
       "      <td>NaN</td>\n",
       "      <td>S</td>\n",
       "    </tr>\n",
       "    <tr>\n",
       "      <th>4</th>\n",
       "      <td>896</td>\n",
       "      <td>3</td>\n",
       "      <td>Hirvonen, Mrs. Alexander (Helga E Lindqvist)</td>\n",
       "      <td>female</td>\n",
       "      <td>22.0</td>\n",
       "      <td>1</td>\n",
       "      <td>1</td>\n",
       "      <td>3101298</td>\n",
       "      <td>12.2875</td>\n",
       "      <td>NaN</td>\n",
       "      <td>S</td>\n",
       "    </tr>\n",
       "  </tbody>\n",
       "</table>\n",
       "</div>"
      ],
      "text/plain": [
       "   PassengerId  Pclass   ...    Cabin Embarked\n",
       "0          892       3   ...      NaN        Q\n",
       "1          893       3   ...      NaN        S\n",
       "2          894       2   ...      NaN        Q\n",
       "3          895       3   ...      NaN        S\n",
       "4          896       3   ...      NaN        S\n",
       "\n",
       "[5 rows x 11 columns]"
      ]
     },
     "execution_count": 52,
     "metadata": {},
     "output_type": "execute_result"
    }
   ],
   "source": [
    "#Printing the first five rows of the data of test csv file\n",
    "test_df.head()"
   ]
  },
  {
   "cell_type": "code",
   "execution_count": null,
   "metadata": {
    "_uuid": "c7af16a1f99e22a807f2d7b34171e35e9c57a09a"
   },
   "outputs": [],
   "source": [
    "In the Test CSV file survived data is missing because we need to predict it "
   ]
  },
  {
   "cell_type": "code",
   "execution_count": 53,
   "metadata": {
    "_uuid": "cf3bf44516383a939e446b4098e5c46359653f1b",
    "execution": {
     "iopub.execute_input": "2022-09-25T09:34:17.490449Z",
     "iopub.status.busy": "2022-09-25T09:34:17.490154Z",
     "iopub.status.idle": "2022-09-25T09:34:17.523716Z",
     "shell.execute_reply": "2022-09-25T09:34:17.522822Z",
     "shell.execute_reply.started": "2022-09-25T09:34:17.490384Z"
    },
    "scrolled": true
   },
   "outputs": [
    {
     "name": "stdout",
     "output_type": "stream",
     "text": [
      "<class 'pandas.core.frame.DataFrame'>\n",
      "RangeIndex: 891 entries, 0 to 890\n",
      "Data columns (total 12 columns):\n",
      "PassengerId    891 non-null int64\n",
      "Survived       891 non-null int64\n",
      "Pclass         891 non-null int64\n",
      "Name           891 non-null object\n",
      "Sex            891 non-null object\n",
      "Age            714 non-null float64\n",
      "SibSp          891 non-null int64\n",
      "Parch          891 non-null int64\n",
      "Ticket         891 non-null object\n",
      "Fare           891 non-null float64\n",
      "Cabin          204 non-null object\n",
      "Embarked       889 non-null object\n",
      "dtypes: float64(2), int64(5), object(5)\n",
      "memory usage: 83.6+ KB\n"
     ]
    }
   ],
   "source": [
    "train_df.info()"
   ]
  },
  {
   "cell_type": "markdown",
   "metadata": {
    "_uuid": "7fc9c5656857fc796ef20452e1c56f4f23abb2e9"
   },
   "source": [
    "Now we'll look into our train data and check out our useful insights from it.  \n"
   ]
  },
  {
   "cell_type": "code",
   "execution_count": 54,
   "metadata": {
    "_uuid": "adc7cc2fa38e4f38f4663f87e96c9f45b4b21aa6",
    "execution": {
     "iopub.execute_input": "2022-09-25T09:34:17.525581Z",
     "iopub.status.busy": "2022-09-25T09:34:17.525182Z",
     "iopub.status.idle": "2022-09-25T09:34:17.534691Z",
     "shell.execute_reply": "2022-09-25T09:34:17.533641Z",
     "shell.execute_reply.started": "2022-09-25T09:34:17.525505Z"
    }
   },
   "outputs": [
    {
     "data": {
      "text/plain": [
       "Index(['PassengerId', 'Survived', 'Pclass', 'Name', 'Sex', 'Age', 'SibSp',\n",
       "       'Parch', 'Ticket', 'Fare', 'Cabin', 'Embarked'],\n",
       "      dtype='object')"
      ]
     },
     "execution_count": 54,
     "metadata": {},
     "output_type": "execute_result"
    }
   ],
   "source": [
    "#printing out a list of all the columns in our training dataset\n",
    "train_df.columns"
   ]
  },
  {
   "cell_type": "markdown",
   "metadata": {
    "_uuid": "bcd6efc56fec1b8b8ccb0d75f7608eea8fe9c839"
   },
   "source": [
    "* Categorical : Pclass, Sex, Embarked, Survived\n",
    "* Continuous : Age, Fare, Sibsp, Parch, PassengerId\n",
    "* Alphanumeric: Ticket, Cabin, Name"
   ]
  },
  {
   "cell_type": "code",
   "execution_count": 55,
   "metadata": {
    "_uuid": "90e1c50f7bf034cf26a90bc3fae147dfe78c7d81",
    "execution": {
     "iopub.execute_input": "2022-09-25T09:34:17.537110Z",
     "iopub.status.busy": "2022-09-25T09:34:17.536567Z",
     "iopub.status.idle": "2022-09-25T09:34:17.631867Z",
     "shell.execute_reply": "2022-09-25T09:34:17.630864Z",
     "shell.execute_reply.started": "2022-09-25T09:34:17.537034Z"
    }
   },
   "outputs": [
    {
     "data": {
      "text/html": [
       "<div>\n",
       "<style scoped>\n",
       "    .dataframe tbody tr th:only-of-type {\n",
       "        vertical-align: middle;\n",
       "    }\n",
       "\n",
       "    .dataframe tbody tr th {\n",
       "        vertical-align: top;\n",
       "    }\n",
       "\n",
       "    .dataframe thead th {\n",
       "        text-align: right;\n",
       "    }\n",
       "</style>\n",
       "<table border=\"1\" class=\"dataframe\">\n",
       "  <thead>\n",
       "    <tr style=\"text-align: right;\">\n",
       "      <th></th>\n",
       "      <th>PassengerId</th>\n",
       "      <th>Survived</th>\n",
       "      <th>Pclass</th>\n",
       "      <th>Age</th>\n",
       "      <th>SibSp</th>\n",
       "      <th>Parch</th>\n",
       "      <th>Fare</th>\n",
       "    </tr>\n",
       "  </thead>\n",
       "  <tbody>\n",
       "    <tr>\n",
       "      <th>count</th>\n",
       "      <td>891.000000</td>\n",
       "      <td>891.000000</td>\n",
       "      <td>891.000000</td>\n",
       "      <td>714.000000</td>\n",
       "      <td>891.000000</td>\n",
       "      <td>891.000000</td>\n",
       "      <td>891.000000</td>\n",
       "    </tr>\n",
       "    <tr>\n",
       "      <th>mean</th>\n",
       "      <td>446.000000</td>\n",
       "      <td>0.383838</td>\n",
       "      <td>2.308642</td>\n",
       "      <td>29.699118</td>\n",
       "      <td>0.523008</td>\n",
       "      <td>0.381594</td>\n",
       "      <td>32.204208</td>\n",
       "    </tr>\n",
       "    <tr>\n",
       "      <th>std</th>\n",
       "      <td>257.353842</td>\n",
       "      <td>0.486592</td>\n",
       "      <td>0.836071</td>\n",
       "      <td>14.526497</td>\n",
       "      <td>1.102743</td>\n",
       "      <td>0.806057</td>\n",
       "      <td>49.693429</td>\n",
       "    </tr>\n",
       "    <tr>\n",
       "      <th>min</th>\n",
       "      <td>1.000000</td>\n",
       "      <td>0.000000</td>\n",
       "      <td>1.000000</td>\n",
       "      <td>0.420000</td>\n",
       "      <td>0.000000</td>\n",
       "      <td>0.000000</td>\n",
       "      <td>0.000000</td>\n",
       "    </tr>\n",
       "    <tr>\n",
       "      <th>25%</th>\n",
       "      <td>223.500000</td>\n",
       "      <td>0.000000</td>\n",
       "      <td>2.000000</td>\n",
       "      <td>20.125000</td>\n",
       "      <td>0.000000</td>\n",
       "      <td>0.000000</td>\n",
       "      <td>7.910400</td>\n",
       "    </tr>\n",
       "    <tr>\n",
       "      <th>50%</th>\n",
       "      <td>446.000000</td>\n",
       "      <td>0.000000</td>\n",
       "      <td>3.000000</td>\n",
       "      <td>28.000000</td>\n",
       "      <td>0.000000</td>\n",
       "      <td>0.000000</td>\n",
       "      <td>14.454200</td>\n",
       "    </tr>\n",
       "    <tr>\n",
       "      <th>75%</th>\n",
       "      <td>668.500000</td>\n",
       "      <td>1.000000</td>\n",
       "      <td>3.000000</td>\n",
       "      <td>38.000000</td>\n",
       "      <td>1.000000</td>\n",
       "      <td>0.000000</td>\n",
       "      <td>31.000000</td>\n",
       "    </tr>\n",
       "    <tr>\n",
       "      <th>max</th>\n",
       "      <td>891.000000</td>\n",
       "      <td>1.000000</td>\n",
       "      <td>3.000000</td>\n",
       "      <td>80.000000</td>\n",
       "      <td>8.000000</td>\n",
       "      <td>6.000000</td>\n",
       "      <td>512.329200</td>\n",
       "    </tr>\n",
       "  </tbody>\n",
       "</table>\n",
       "</div>"
      ],
      "text/plain": [
       "       PassengerId    Survived     ...           Parch        Fare\n",
       "count   891.000000  891.000000     ...      891.000000  891.000000\n",
       "mean    446.000000    0.383838     ...        0.381594   32.204208\n",
       "std     257.353842    0.486592     ...        0.806057   49.693429\n",
       "min       1.000000    0.000000     ...        0.000000    0.000000\n",
       "25%     223.500000    0.000000     ...        0.000000    7.910400\n",
       "50%     446.000000    0.000000     ...        0.000000   14.454200\n",
       "75%     668.500000    1.000000     ...        0.000000   31.000000\n",
       "max     891.000000    1.000000     ...        6.000000  512.329200\n",
       "\n",
       "[8 rows x 7 columns]"
      ]
     },
     "execution_count": 55,
     "metadata": {},
     "output_type": "execute_result"
    }
   ],
   "source": [
    "#printing summary statistics of the data\n",
    "train_df.describe()"
   ]
  },
  {
   "cell_type": "code",
   "execution_count": 56,
   "metadata": {
    "_uuid": "d0927c2f9cdf316865c9ea8ce5f28727788dace4",
    "execution": {
     "iopub.execute_input": "2022-09-25T09:34:17.633868Z",
     "iopub.status.busy": "2022-09-25T09:34:17.633181Z",
     "iopub.status.idle": "2022-09-25T09:34:17.676347Z",
     "shell.execute_reply": "2022-09-25T09:34:17.675269Z",
     "shell.execute_reply.started": "2022-09-25T09:34:17.633803Z"
    }
   },
   "outputs": [
    {
     "data": {
      "text/html": [
       "<div>\n",
       "<style scoped>\n",
       "    .dataframe tbody tr th:only-of-type {\n",
       "        vertical-align: middle;\n",
       "    }\n",
       "\n",
       "    .dataframe tbody tr th {\n",
       "        vertical-align: top;\n",
       "    }\n",
       "\n",
       "    .dataframe thead th {\n",
       "        text-align: right;\n",
       "    }\n",
       "</style>\n",
       "<table border=\"1\" class=\"dataframe\">\n",
       "  <thead>\n",
       "    <tr style=\"text-align: right;\">\n",
       "      <th></th>\n",
       "      <th>Name</th>\n",
       "      <th>Sex</th>\n",
       "      <th>Ticket</th>\n",
       "      <th>Cabin</th>\n",
       "      <th>Embarked</th>\n",
       "    </tr>\n",
       "  </thead>\n",
       "  <tbody>\n",
       "    <tr>\n",
       "      <th>count</th>\n",
       "      <td>891</td>\n",
       "      <td>891</td>\n",
       "      <td>891</td>\n",
       "      <td>204</td>\n",
       "      <td>889</td>\n",
       "    </tr>\n",
       "    <tr>\n",
       "      <th>unique</th>\n",
       "      <td>891</td>\n",
       "      <td>2</td>\n",
       "      <td>681</td>\n",
       "      <td>147</td>\n",
       "      <td>3</td>\n",
       "    </tr>\n",
       "    <tr>\n",
       "      <th>top</th>\n",
       "      <td>Hampe, Mr. Leon</td>\n",
       "      <td>male</td>\n",
       "      <td>CA. 2343</td>\n",
       "      <td>C23 C25 C27</td>\n",
       "      <td>S</td>\n",
       "    </tr>\n",
       "    <tr>\n",
       "      <th>freq</th>\n",
       "      <td>1</td>\n",
       "      <td>577</td>\n",
       "      <td>7</td>\n",
       "      <td>4</td>\n",
       "      <td>644</td>\n",
       "    </tr>\n",
       "  </tbody>\n",
       "</table>\n",
       "</div>"
      ],
      "text/plain": [
       "                   Name   Sex    Ticket        Cabin Embarked\n",
       "count               891   891       891          204      889\n",
       "unique              891     2       681          147        3\n",
       "top     Hampe, Mr. Leon  male  CA. 2343  C23 C25 C27        S\n",
       "freq                  1   577         7            4      644"
      ]
     },
     "execution_count": 56,
     "metadata": {},
     "output_type": "execute_result"
    }
   ],
   "source": [
    "train_df.describe(include='O')"
   ]
  },
  {
   "cell_type": "code",
   "execution_count": 57,
   "metadata": {
    "_uuid": "b4c8c281824d05296f260f82ee29ee85c2a1243b",
    "execution": {
     "iopub.execute_input": "2022-09-25T09:34:17.678274Z",
     "iopub.status.busy": "2022-09-25T09:34:17.677925Z",
     "iopub.status.idle": "2022-09-25T09:34:17.723417Z",
     "shell.execute_reply": "2022-09-25T09:34:17.722381Z",
     "shell.execute_reply.started": "2022-09-25T09:34:17.678205Z"
    }
   },
   "outputs": [
    {
     "data": {
      "text/plain": [
       "PassengerId     0.000000\n",
       "Survived        0.000000\n",
       "Pclass          0.000000\n",
       "Name            0.000000\n",
       "Sex             0.000000\n",
       "Age            19.865320\n",
       "SibSp           0.000000\n",
       "Parch           0.000000\n",
       "Ticket          0.000000\n",
       "Fare            0.000000\n",
       "Cabin          77.104377\n",
       "Embarked        0.224467\n",
       "dtype: float64"
      ]
     },
     "execution_count": 57,
     "metadata": {},
     "output_type": "execute_result"
    }
   ],
   "source": [
    "#Finding the percantage of missing values in train dataset\n",
    "train_df.isnull().sum()/ len(train_df) *100"
   ]
  },
  {
   "cell_type": "code",
   "execution_count": 58,
   "metadata": {
    "_uuid": "f585235336b82b08c8e87d78ee3607d9e7818e7d",
    "execution": {
     "iopub.execute_input": "2022-09-25T09:34:17.727176Z",
     "iopub.status.busy": "2022-09-25T09:34:17.726878Z",
     "iopub.status.idle": "2022-09-25T09:34:17.737512Z",
     "shell.execute_reply": "2022-09-25T09:34:17.736629Z",
     "shell.execute_reply.started": "2022-09-25T09:34:17.727119Z"
    },
    "scrolled": true
   },
   "outputs": [
    {
     "data": {
      "text/plain": [
       "PassengerId     0.000000\n",
       "Pclass          0.000000\n",
       "Name            0.000000\n",
       "Sex             0.000000\n",
       "Age            20.574163\n",
       "SibSp           0.000000\n",
       "Parch           0.000000\n",
       "Ticket          0.000000\n",
       "Fare            0.239234\n",
       "Cabin          78.229665\n",
       "Embarked        0.000000\n",
       "dtype: float64"
      ]
     },
     "execution_count": 58,
     "metadata": {},
     "output_type": "execute_result"
    }
   ],
   "source": [
    "#Finding the percentage of Null values in test dataset\n",
    "test_df.isnull().sum()/ len(test_df) *100"
   ]
  },
  {
   "cell_type": "markdown",
   "metadata": {
    "_uuid": "aaad212cbeccd6805890e296125cbf9b166432a6"
   },
   "source": [
    "#The Cabin coulmn has 77% and 78% missing values  in train and test datasets respectively hence, it should be better dropping those features"
   ]
  },
  {
   "cell_type": "markdown",
   "metadata": {
    "_uuid": "087e6f019ec62b6fb3cd3086e97b4b614bc92084"
   },
   "source": [
    "#Exploring the Sex column in our training data set and see how it affects our data"
   ]
  },
  {
   "cell_type": "code",
   "execution_count": 59,
   "metadata": {
    "_uuid": "1faf4cf53a3b03056a61b0511958751952e46a42",
    "execution": {
     "iopub.execute_input": "2022-09-25T09:34:17.739509Z",
     "iopub.status.busy": "2022-09-25T09:34:17.739130Z",
     "iopub.status.idle": "2022-09-25T09:34:17.870675Z",
     "shell.execute_reply": "2022-09-25T09:34:17.869772Z",
     "shell.execute_reply.started": "2022-09-25T09:34:17.739409Z"
    }
   },
   "outputs": [
    {
     "data": {
      "text/plain": [
       "male      577\n",
       "female    314\n",
       "Name: Sex, dtype: int64"
      ]
     },
     "execution_count": 59,
     "metadata": {},
     "output_type": "execute_result"
    },
    {
     "data": {
      "image/png": "[encoded data removed]",
      "text/plain": [
       "<matplotlib.figure.Figure at 0x7feb0066f780>"
      ]
     },
     "metadata": {},
     "output_type": "display_data"
    }
   ],
   "source": [
    "sns.countplot('Sex',data=train_df)\n",
    "train_df['Sex'].value_counts()"
   ]
  },
  {
   "cell_type": "markdown",
   "metadata": {
    "_uuid": "45fea51e2b6f2abb4d458d9b5989f975139b009e"
   },
   "source": [
    "NO. of male on board are more than the NO. of females Now we'll see how their survival percentages were are:"
   ]
  },
  {
   "cell_type": "code",
   "execution_count": 60,
   "metadata": {
    "_uuid": "95f40aefaa6b3b35cea9cbd7e1f2a6a20a72ed40",
    "execution": {
     "iopub.execute_input": "2022-09-25T09:34:17.872565Z",
     "iopub.status.busy": "2022-09-25T09:34:17.872025Z",
     "iopub.status.idle": "2022-09-25T09:34:18.114606Z",
     "shell.execute_reply": "2022-09-25T09:34:18.113712Z",
     "shell.execute_reply.started": "2022-09-25T09:34:17.872501Z"
    }
   },
   "outputs": [
    {
     "data": {
      "text/html": [
       "<div>\n",
       "<style scoped>\n",
       "    .dataframe tbody tr th:only-of-type {\n",
       "        vertical-align: middle;\n",
       "    }\n",
       "\n",
       "    .dataframe tbody tr th {\n",
       "        vertical-align: top;\n",
       "    }\n",
       "\n",
       "    .dataframe thead th {\n",
       "        text-align: right;\n",
       "    }\n",
       "</style>\n",
       "<table border=\"1\" class=\"dataframe\">\n",
       "  <thead>\n",
       "    <tr style=\"text-align: right;\">\n",
       "      <th></th>\n",
       "      <th>Sex</th>\n",
       "      <th>Survived</th>\n",
       "    </tr>\n",
       "  </thead>\n",
       "  <tbody>\n",
       "    <tr>\n",
       "      <th>0</th>\n",
       "      <td>female</td>\n",
       "      <td>0.742038</td>\n",
       "    </tr>\n",
       "    <tr>\n",
       "      <th>1</th>\n",
       "      <td>male</td>\n",
       "      <td>0.188908</td>\n",
       "    </tr>\n",
       "  </tbody>\n",
       "</table>\n",
       "</div>"
      ],
      "text/plain": [
       "      Sex  Survived\n",
       "0  female  0.742038\n",
       "1    male  0.188908"
      ]
     },
     "execution_count": 60,
     "metadata": {},
     "output_type": "execute_result"
    },
    {
     "data": {
      "image/png": "[encoded data removed]",
      "text/plain": [
       "<matplotlib.figure.Figure at 0x7feaf6b0c7f0>"
      ]
     },
     "metadata": {},
     "output_type": "display_data"
    }
   ],
   "source": [
    "#Comparing the Sex feature against Survived\n",
    "sns.barplot(x='Sex',y='Survived',data=train_df)\n",
    "train_df.groupby('Sex',as_index=False).Survived.mean()"
   ]
  },
  {
   "cell_type": "markdown",
   "metadata": {
    "_uuid": "6c4d23983a418fbcd57dae3663bacddf378ba7ac"
   },
   "source": [
    "Form above we can conclude that no. of female survived was more than the no. of male survived.\n",
    "That is 74%  females as against to 18% males"
   ]
  },
  {
   "cell_type": "code",
   "execution_count": 61,
   "metadata": {
    "_uuid": "ce060b776c9ec19cb3cdc70fb8941d420e271fad",
    "execution": {
     "iopub.execute_input": "2022-09-25T09:34:18.116521Z",
     "iopub.status.busy": "2022-09-25T09:34:18.115994Z",
     "iopub.status.idle": "2022-09-25T09:34:18.315521Z",
     "shell.execute_reply": "2022-09-25T09:34:18.314611Z",
     "shell.execute_reply.started": "2022-09-25T09:34:18.116439Z"
    }
   },
   "outputs": [
    {
     "data": {
      "text/html": [
       "<div>\n",
       "<style scoped>\n",
       "    .dataframe tbody tr th:only-of-type {\n",
       "        vertical-align: middle;\n",
       "    }\n",
       "\n",
       "    .dataframe tbody tr th {\n",
       "        vertical-align: top;\n",
       "    }\n",
       "\n",
       "    .dataframe thead th {\n",
       "        text-align: right;\n",
       "    }\n",
       "</style>\n",
       "<table border=\"1\" class=\"dataframe\">\n",
       "  <thead>\n",
       "    <tr style=\"text-align: right;\">\n",
       "      <th></th>\n",
       "      <th>Pclass</th>\n",
       "      <th>Survived</th>\n",
       "    </tr>\n",
       "  </thead>\n",
       "  <tbody>\n",
       "    <tr>\n",
       "      <th>0</th>\n",
       "      <td>1</td>\n",
       "      <td>0.629630</td>\n",
       "    </tr>\n",
       "    <tr>\n",
       "      <th>1</th>\n",
       "      <td>2</td>\n",
       "      <td>0.472826</td>\n",
       "    </tr>\n",
       "    <tr>\n",
       "      <th>2</th>\n",
       "      <td>3</td>\n",
       "      <td>0.242363</td>\n",
       "    </tr>\n",
       "  </tbody>\n",
       "</table>\n",
       "</div>"
      ],
      "text/plain": [
       "   Pclass  Survived\n",
       "0       1  0.629630\n",
       "1       2  0.472826\n",
       "2       3  0.242363"
      ]
     },
     "execution_count": 61,
     "metadata": {},
     "output_type": "execute_result"
    },
    {
     "data": {
      "image/png": "[encoded data removed]",
      "text/plain": [
       "<matplotlib.figure.Figure at 0x7feaf6ad26d8>"
      ]
     },
     "metadata": {},
     "output_type": "display_data"
    }
   ],
   "source": [
    "#Comparing the Pclass feature against Survived\n",
    "sns.barplot(x='Pclass',y='Survived',data=train_df)\n",
    "train_df[[\"Pclass\", \"Survived\"]].groupby(['Pclass'], as_index=False).mean().sort_values(by='Survived', ascending=False)"
   ]
  },
  {
   "cell_type": "markdown",
   "metadata": {
    "_uuid": "e5c570ef01a65cc54327d3bdead82025c9d6c799"
   },
   "source": [
    "As we can see the class in which a person was, had also affected the chance fo their survival \n",
    "For Instance\n",
    "For passengers in Pclass 1 chances of survival were 62.96%\n",
    "For passengers in Pclass 2 chances of survival were 47.28%\n",
    "For passengers in Pclass 3 chances of survival were 24.23%\n",
    "Thus, belonging to Pclass 1 had a huge advantage and more chances of survival"
   ]
  },
  {
   "cell_type": "code",
   "execution_count": 62,
   "metadata": {
    "_uuid": "35f3753d11d58c24aa4d6cd6e68bfd22eb1b5ee6",
    "execution": {
     "iopub.execute_input": "2022-09-25T09:34:18.317438Z",
     "iopub.status.busy": "2022-09-25T09:34:18.316922Z",
     "iopub.status.idle": "2022-09-25T09:34:18.524626Z",
     "shell.execute_reply": "2022-09-25T09:34:18.523679Z",
     "shell.execute_reply.started": "2022-09-25T09:34:18.317375Z"
    }
   },
   "outputs": [
    {
     "data": {
      "text/html": [
       "<div>\n",
       "<style scoped>\n",
       "    .dataframe tbody tr th:only-of-type {\n",
       "        vertical-align: middle;\n",
       "    }\n",
       "\n",
       "    .dataframe tbody tr th {\n",
       "        vertical-align: top;\n",
       "    }\n",
       "\n",
       "    .dataframe thead th {\n",
       "        text-align: right;\n",
       "    }\n",
       "</style>\n",
       "<table border=\"1\" class=\"dataframe\">\n",
       "  <thead>\n",
       "    <tr style=\"text-align: right;\">\n",
       "      <th></th>\n",
       "      <th>Embarked</th>\n",
       "      <th>Survived</th>\n",
       "    </tr>\n",
       "  </thead>\n",
       "  <tbody>\n",
       "    <tr>\n",
       "      <th>0</th>\n",
       "      <td>C</td>\n",
       "      <td>0.553571</td>\n",
       "    </tr>\n",
       "    <tr>\n",
       "      <th>1</th>\n",
       "      <td>Q</td>\n",
       "      <td>0.389610</td>\n",
       "    </tr>\n",
       "    <tr>\n",
       "      <th>2</th>\n",
       "      <td>S</td>\n",
       "      <td>0.336957</td>\n",
       "    </tr>\n",
       "  </tbody>\n",
       "</table>\n",
       "</div>"
      ],
      "text/plain": [
       "  Embarked  Survived\n",
       "0        C  0.553571\n",
       "1        Q  0.389610\n",
       "2        S  0.336957"
      ]
     },
     "execution_count": 62,
     "metadata": {},
     "output_type": "execute_result"
    },
    {
     "data": {
      "image/png": "[encoded data removed]",
      "text/plain": [
       "<matplotlib.figure.Figure at 0x7feaf6aa5278>"
      ]
     },
     "metadata": {},
     "output_type": "display_data"
    }
   ],
   "source": [
    "#Comparing the Embarked feature against Survived\n",
    "sns.barplot(x='Embarked',y='Survived',data=train_df)\n",
    "train_df[[\"Embarked\", \"Survived\"]].groupby(['Embarked'], as_index=False).mean().sort_values(by='Survived', ascending=False)"
   ]
  },
  {
   "cell_type": "markdown",
   "metadata": {
    "_uuid": "ba40ed2c06a15ef5a1b00d3349aa770984ae9d10"
   },
   "source": [
    "It seems that the passengers that embarked from port Cherbourg had a higher rate of Survival at 55%. \n",
    "This could be either due to their Sex or socio-economic class.\n",
    "Let's move forward to see the effect of having parents or children on-board."
   ]
  },
  {
   "cell_type": "code",
   "execution_count": 63,
   "metadata": {
    "_uuid": "a6c2ca8ff240f890db44c5e087bff4a3ebb8c330",
    "execution": {
     "iopub.execute_input": "2022-09-25T09:34:18.526505Z",
     "iopub.status.busy": "2022-09-25T09:34:18.525989Z",
     "iopub.status.idle": "2022-09-25T09:34:18.792650Z",
     "shell.execute_reply": "2022-09-25T09:34:18.791767Z",
     "shell.execute_reply.started": "2022-09-25T09:34:18.526426Z"
    }
   },
   "outputs": [
    {
     "data": {
      "text/html": [
       "<div>\n",
       "<style scoped>\n",
       "    .dataframe tbody tr th:only-of-type {\n",
       "        vertical-align: middle;\n",
       "    }\n",
       "\n",
       "    .dataframe tbody tr th {\n",
       "        vertical-align: top;\n",
       "    }\n",
       "\n",
       "    .dataframe thead th {\n",
       "        text-align: right;\n",
       "    }\n",
       "</style>\n",
       "<table border=\"1\" class=\"dataframe\">\n",
       "  <thead>\n",
       "    <tr style=\"text-align: right;\">\n",
       "      <th></th>\n",
       "      <th>Parch</th>\n",
       "      <th>Survived</th>\n",
       "    </tr>\n",
       "  </thead>\n",
       "  <tbody>\n",
       "    <tr>\n",
       "      <th>3</th>\n",
       "      <td>3</td>\n",
       "      <td>0.600000</td>\n",
       "    </tr>\n",
       "    <tr>\n",
       "      <th>1</th>\n",
       "      <td>1</td>\n",
       "      <td>0.550847</td>\n",
       "    </tr>\n",
       "    <tr>\n",
       "      <th>2</th>\n",
       "      <td>2</td>\n",
       "      <td>0.500000</td>\n",
       "    </tr>\n",
       "    <tr>\n",
       "      <th>0</th>\n",
       "      <td>0</td>\n",
       "      <td>0.343658</td>\n",
       "    </tr>\n",
       "    <tr>\n",
       "      <th>5</th>\n",
       "      <td>5</td>\n",
       "      <td>0.200000</td>\n",
       "    </tr>\n",
       "    <tr>\n",
       "      <th>4</th>\n",
       "      <td>4</td>\n",
       "      <td>0.000000</td>\n",
       "    </tr>\n",
       "    <tr>\n",
       "      <th>6</th>\n",
       "      <td>6</td>\n",
       "      <td>0.000000</td>\n",
       "    </tr>\n",
       "  </tbody>\n",
       "</table>\n",
       "</div>"
      ],
      "text/plain": [
       "   Parch  Survived\n",
       "3      3  0.600000\n",
       "1      1  0.550847\n",
       "2      2  0.500000\n",
       "0      0  0.343658\n",
       "5      5  0.200000\n",
       "4      4  0.000000\n",
       "6      6  0.000000"
      ]
     },
     "execution_count": 63,
     "metadata": {},
     "output_type": "execute_result"
    },
    {
     "data": {
      "image/png": "[encoded data removed]",
      "text/plain": [
       "<matplotlib.figure.Figure at 0x7feaf6adec50>"
      ]
     },
     "metadata": {},
     "output_type": "display_data"
    }
   ],
   "source": [
    "sns.barplot(x='Parch',y='Survived',data=train_df)\n",
    "train_df[[\"Parch\", \"Survived\"]].groupby(['Parch'], as_index=False).mean().sort_values(by='Survived', ascending=False)"
   ]
  },
  {
   "cell_type": "markdown",
   "metadata": {
    "_uuid": "de27505dc010bfc15b70d12b9a26ab47fee17f44"
   },
   "source": [
    "Looks like passengers who had either 1, 2 or 3  had a higher possibility of surviving than the ones had none. However having more than 3 made the possibility even lesser.\n",
    "Lets move on to the effect of having spouse or siblings on Survival:"
   ]
  },
  {
   "cell_type": "code",
   "execution_count": 64,
   "metadata": {
    "_uuid": "16a3b4f8a607be8282e268e461bd5c9463c41614",
    "execution": {
     "iopub.execute_input": "2022-09-25T09:34:18.794551Z",
     "iopub.status.busy": "2022-09-25T09:34:18.794009Z",
     "iopub.status.idle": "2022-09-25T09:34:19.080407Z",
     "shell.execute_reply": "2022-09-25T09:34:19.079541Z",
     "shell.execute_reply.started": "2022-09-25T09:34:18.794462Z"
    }
   },
   "outputs": [
    {
     "data": {
      "text/html": [
       "<div>\n",
       "<style scoped>\n",
       "    .dataframe tbody tr th:only-of-type {\n",
       "        vertical-align: middle;\n",
       "    }\n",
       "\n",
       "    .dataframe tbody tr th {\n",
       "        vertical-align: top;\n",
       "    }\n",
       "\n",
       "    .dataframe thead th {\n",
       "        text-align: right;\n",
       "    }\n",
       "</style>\n",
       "<table border=\"1\" class=\"dataframe\">\n",
       "  <thead>\n",
       "    <tr style=\"text-align: right;\">\n",
       "      <th></th>\n",
       "      <th>SibSp</th>\n",
       "      <th>Survived</th>\n",
       "    </tr>\n",
       "  </thead>\n",
       "  <tbody>\n",
       "    <tr>\n",
       "      <th>1</th>\n",
       "      <td>1</td>\n",
       "      <td>0.535885</td>\n",
       "    </tr>\n",
       "    <tr>\n",
       "      <th>2</th>\n",
       "      <td>2</td>\n",
       "      <td>0.464286</td>\n",
       "    </tr>\n",
       "    <tr>\n",
       "      <th>0</th>\n",
       "      <td>0</td>\n",
       "      <td>0.345395</td>\n",
       "    </tr>\n",
       "    <tr>\n",
       "      <th>3</th>\n",
       "      <td>3</td>\n",
       "      <td>0.250000</td>\n",
       "    </tr>\n",
       "    <tr>\n",
       "      <th>4</th>\n",
       "      <td>4</td>\n",
       "      <td>0.166667</td>\n",
       "    </tr>\n",
       "    <tr>\n",
       "      <th>5</th>\n",
       "      <td>5</td>\n",
       "      <td>0.000000</td>\n",
       "    </tr>\n",
       "    <tr>\n",
       "      <th>6</th>\n",
       "      <td>8</td>\n",
       "      <td>0.000000</td>\n",
       "    </tr>\n",
       "  </tbody>\n",
       "</table>\n",
       "</div>"
      ],
      "text/plain": [
       "   SibSp  Survived\n",
       "1      1  0.535885\n",
       "2      2  0.464286\n",
       "0      0  0.345395\n",
       "3      3  0.250000\n",
       "4      4  0.166667\n",
       "5      5  0.000000\n",
       "6      8  0.000000"
      ]
     },
     "execution_count": 64,
     "metadata": {},
     "output_type": "execute_result"
    },
    {
     "data": {
      "image/png": "[encoded data removed]",
      "text/plain": [
       "<matplotlib.figure.Figure at 0x7feaf6a67cf8>"
      ]
     },
     "metadata": {},
     "output_type": "display_data"
    }
   ],
   "source": [
    "sns.barplot(x='SibSp',y='Survived',data=train_df)\n",
    "train_df[[\"SibSp\", \"Survived\"]].groupby(['SibSp'], as_index=False).mean().sort_values(by='Survived', ascending=False)"
   ]
  },
  {
   "cell_type": "markdown",
   "metadata": {
    "_uuid": "2a22ca09e29c90a13292a7d533bed22edf5e859a"
   },
   "source": [
    "It seems that having a spouse or 1 sibling had a positive effect on Survival as compared to being alone. Though the chances of survival go down with the number of siblings after 1."
   ]
  },
  {
   "cell_type": "markdown",
   "metadata": {
    "_uuid": "93adc95dd7a17918a5cb7fc0b93ea74af90df89a"
   },
   "source": [
    "The Age column has some missing values. We will take care of that later when we clean our training data.\n",
    "First we shall proceed by:\n",
    "1.  Plotting a histogram of the age values .\n",
    "2. Taking a look at the median value of age as well as the spread."
   ]
  },
  {
   "cell_type": "code",
   "execution_count": 65,
   "metadata": {
    "_uuid": "c416c66beb6b8e5e5e9f587a176e6ff2ac3f6edf",
    "execution": {
     "iopub.execute_input": "2022-09-25T09:34:19.082322Z",
     "iopub.status.busy": "2022-09-25T09:34:19.081801Z",
     "iopub.status.idle": "2022-09-25T09:34:19.257695Z",
     "shell.execute_reply": "2022-09-25T09:34:19.256672Z",
     "shell.execute_reply.started": "2022-09-25T09:34:19.082258Z"
    },
    "scrolled": true
   },
   "outputs": [
    {
     "data": {
      "image/png": "[encoded data removed]",
      "text/plain": [
       "<matplotlib.figure.Figure at 0x7feaf694d320>"
      ]
     },
     "metadata": {},
     "output_type": "display_data"
    },
    {
     "name": "stdout",
     "output_type": "stream",
     "text": [
      "The Median age of passengers is : 28\n",
      "The Standard Deviation age of passengers is : 14\n"
     ]
    }
   ],
   "source": [
    "train_df.Age.hist(bins=10,color='teal')\n",
    "plt.xlabel('Age')\n",
    "plt.ylabel('Count')\n",
    "plt.show()\n",
    "print(\"The Median age of passengers is :\", int(train_df.Age.median()))\n",
    "print(\"The Standard Deviation age of passengers is :\", int(train_df.Age.std()))"
   ]
  },
  {
   "cell_type": "markdown",
   "metadata": {
    "_uuid": "27604041fa28d21fceeb490b7cc80d6c03ea9ff3"
   },
   "source": [
    "We should check if the younger individuals had a better chance of survival or not"
   ]
  },
  {
   "cell_type": "code",
   "execution_count": 66,
   "metadata": {
    "_uuid": "f6c4b31271a89710d3664e98c9f84f82689ab90d",
    "execution": {
     "iopub.execute_input": "2022-09-25T09:34:19.259661Z",
     "iopub.status.busy": "2022-09-25T09:34:19.259093Z",
     "iopub.status.idle": "2022-09-25T09:34:19.559522Z",
     "shell.execute_reply": "2022-09-25T09:34:19.558652Z",
     "shell.execute_reply.started": "2022-09-25T09:34:19.259587Z"
    }
   },
   "outputs": [
    {
     "data": {
      "text/plain": [
       "<seaborn.axisgrid.FacetGrid at 0x7feaf6a6d9b0>"
      ]
     },
     "execution_count": 66,
     "metadata": {},
     "output_type": "execute_result"
    },
    {
     "data": {
      "image/png": "[encoded data removed]",
      "text/plain": [
       "<matplotlib.figure.Figure at 0x7feaf69177b8>"
      ]
     },
     "metadata": {},
     "output_type": "display_data"
    }
   ],
   "source": [
    "sns.lmplot(x='Age',y='Survived',data=train_df,palette='Set1')"
   ]
  },
  {
   "cell_type": "markdown",
   "metadata": {
    "_uuid": "f045da56e8a919c4cc0c744f9739b855908e28f9"
   },
   "source": [
    "Our assumption was right, younger individuals were more likely to survive."
   ]
  },
  {
   "cell_type": "markdown",
   "metadata": {
    "_uuid": "f8eba080fd5f78944007e0b85def210b8ae62352"
   },
   "source": [
    "From the sex column we saw that there was a significant difference in the percentage of men and women that survived.\n",
    "Does sex also play a role when it comes to surviving the disaster along with the age?"
   ]
  },
  {
   "cell_type": "code",
   "execution_count": 67,
   "metadata": {
    "_uuid": "576e947ba72210f71781348a564e4ca235993f4e",
    "execution": {
     "iopub.execute_input": "2022-09-25T09:34:19.561466Z",
     "iopub.status.busy": "2022-09-25T09:34:19.560929Z",
     "iopub.status.idle": "2022-09-25T09:34:20.028434Z",
     "shell.execute_reply": "2022-09-25T09:34:20.027505Z",
     "shell.execute_reply.started": "2022-09-25T09:34:19.561401Z"
    }
   },
   "outputs": [
    {
     "data": {
      "text/plain": [
       "<seaborn.axisgrid.FacetGrid at 0x7feaf68896d8>"
      ]
     },
     "execution_count": 67,
     "metadata": {},
     "output_type": "execute_result"
    },
    {
     "data": {
      "image/png": "[encoded data removed]",
      "text/plain": [
       "<matplotlib.figure.Figure at 0x7feaf69bdf98>"
      ]
     },
     "metadata": {},
     "output_type": "display_data"
    }
   ],
   "source": [
    "sns.lmplot(x='Age',y='Survived',data=train_df,hue='Sex',palette='Set1')"
   ]
  },
  {
   "cell_type": "markdown",
   "metadata": {
    "_uuid": "10948d548a00b5e70b26c35f93e10ead918b5171"
   },
   "source": [
    "Age has an opposite effect on the survival in men and women. The chances of survival increase as the age of women increases.\n",
    "\n",
    "SO: Age feature can have a different  effect on the outcome depending on the sex of the passenger. Perhaps we can use this information in feature engineering"
   ]
  },
  {
   "cell_type": "code",
   "execution_count": 68,
   "metadata": {
    "_uuid": "2dab99a02f74d4a3ff470f64f704f85aecafcd40",
    "execution": {
     "iopub.execute_input": "2022-09-25T09:34:20.030295Z",
     "iopub.status.busy": "2022-09-25T09:34:20.029954Z",
     "iopub.status.idle": "2022-09-25T09:34:20.197500Z",
     "shell.execute_reply": "2022-09-25T09:34:20.196640Z",
     "shell.execute_reply.started": "2022-09-25T09:34:20.030234Z"
    }
   },
   "outputs": [
    {
     "data": {
      "text/html": [
       "<div>\n",
       "<style scoped>\n",
       "    .dataframe tbody tr th:only-of-type {\n",
       "        vertical-align: middle;\n",
       "    }\n",
       "\n",
       "    .dataframe tbody tr th {\n",
       "        vertical-align: top;\n",
       "    }\n",
       "\n",
       "    .dataframe thead th {\n",
       "        text-align: right;\n",
       "    }\n",
       "</style>\n",
       "<table border=\"1\" class=\"dataframe\">\n",
       "  <thead>\n",
       "    <tr style=\"text-align: right;\">\n",
       "      <th></th>\n",
       "      <th>Sex</th>\n",
       "      <th>Age</th>\n",
       "    </tr>\n",
       "  </thead>\n",
       "  <tbody>\n",
       "    <tr>\n",
       "      <th>0</th>\n",
       "      <td>female</td>\n",
       "      <td>27.0</td>\n",
       "    </tr>\n",
       "    <tr>\n",
       "      <th>1</th>\n",
       "      <td>male</td>\n",
       "      <td>29.0</td>\n",
       "    </tr>\n",
       "  </tbody>\n",
       "</table>\n",
       "</div>"
      ],
      "text/plain": [
       "      Sex   Age\n",
       "0  female  27.0\n",
       "1    male  29.0"
      ]
     },
     "execution_count": 68,
     "metadata": {},
     "output_type": "execute_result"
    },
    {
     "data": {
      "image/png": "[encoded data removed]",
      "text/plain": [
       "<matplotlib.figure.Figure at 0x7feafb302f28>"
      ]
     },
     "metadata": {},
     "output_type": "display_data"
    }
   ],
   "source": [
    "#Checking for outliers in Age data\n",
    "sns.boxplot(x='Sex',y='Age',data=train_df)\n",
    "\n",
    "#getting the median age according to Sex\n",
    "train_df.groupby('Sex',as_index=False)['Age'].median()"
   ]
  },
  {
   "cell_type": "code",
   "execution_count": 69,
   "metadata": {
    "_uuid": "8a51ac77d187c95488572eb8bbac63a9f87f72ba",
    "execution": {
     "iopub.execute_input": "2022-09-25T09:34:20.199467Z",
     "iopub.status.busy": "2022-09-25T09:34:20.198925Z",
     "iopub.status.idle": "2022-09-25T09:34:20.325244Z",
     "shell.execute_reply": "2022-09-25T09:34:20.324343Z",
     "shell.execute_reply.started": "2022-09-25T09:34:20.199405Z"
    }
   },
   "outputs": [
    {
     "name": "stdout",
     "output_type": "stream",
     "text": [
      "Mean value of Fare is : 32.2042079685746\n",
      "Median value of Fare is : 14.4542\n"
     ]
    },
    {
     "data": {
      "image/png": "[encoded data removed]",
      "text/plain": [
       "<matplotlib.figure.Figure at 0x7feaf6712a20>"
      ]
     },
     "metadata": {},
     "output_type": "display_data"
    }
   ],
   "source": [
    "#plotting the Fare column to see the spread of data\n",
    "sns.boxplot(\"Fare\",data=train_df)\n",
    "\n",
    "#Checking the mean and median values\n",
    "print(\"Mean value of Fare is :\",train_df.Fare.mean())\n",
    "print(\"Median value of Fare is :\",train_df.Fare.median())"
   ]
  },
  {
   "cell_type": "markdown",
   "metadata": {
    "_uuid": "ff7fce6bc46360a5ac005d7959b5b4060b44988e"
   },
   "source": [
    "Now that we have visualized our data , we can proceed to fill in the NaN values in our test and train datasets and drop the columns that we will not require"
   ]
  },
  {
   "cell_type": "code",
   "execution_count": 70,
   "metadata": {
    "_uuid": "2bb0295ff0388c959e9d8acabf334dcc934ee9e6",
    "execution": {
     "iopub.execute_input": "2022-09-25T09:34:20.327273Z",
     "iopub.status.busy": "2022-09-25T09:34:20.326718Z",
     "iopub.status.idle": "2022-09-25T09:34:20.348433Z",
     "shell.execute_reply": "2022-09-25T09:34:20.347319Z",
     "shell.execute_reply.started": "2022-09-25T09:34:20.327211Z"
    }
   },
   "outputs": [
    {
     "data": {
      "text/html": [
       "<div>\n",
       "<style scoped>\n",
       "    .dataframe tbody tr th:only-of-type {\n",
       "        vertical-align: middle;\n",
       "    }\n",
       "\n",
       "    .dataframe tbody tr th {\n",
       "        vertical-align: top;\n",
       "    }\n",
       "\n",
       "    .dataframe thead th {\n",
       "        text-align: right;\n",
       "    }\n",
       "</style>\n",
       "<table border=\"1\" class=\"dataframe\">\n",
       "  <thead>\n",
       "    <tr style=\"text-align: right;\">\n",
       "      <th></th>\n",
       "      <th>PassengerId</th>\n",
       "    </tr>\n",
       "  </thead>\n",
       "  <tbody>\n",
       "    <tr>\n",
       "      <th>0</th>\n",
       "      <td>892</td>\n",
       "    </tr>\n",
       "    <tr>\n",
       "      <th>1</th>\n",
       "      <td>893</td>\n",
       "    </tr>\n",
       "    <tr>\n",
       "      <th>2</th>\n",
       "      <td>894</td>\n",
       "    </tr>\n",
       "    <tr>\n",
       "      <th>3</th>\n",
       "      <td>895</td>\n",
       "    </tr>\n",
       "    <tr>\n",
       "      <th>4</th>\n",
       "      <td>896</td>\n",
       "    </tr>\n",
       "  </tbody>\n",
       "</table>\n",
       "</div>"
      ],
      "text/plain": [
       "   PassengerId\n",
       "0          892\n",
       "1          893\n",
       "2          894\n",
       "3          895\n",
       "4          896"
      ]
     },
     "execution_count": 70,
     "metadata": {},
     "output_type": "execute_result"
    }
   ],
   "source": [
    "#let's start off by dropping the coulmns we will not be needing\n",
    "drop_list=['Cabin','Ticket','PassengerId']\n",
    "\n",
    "train_df = train_df.drop(drop_list,axis=1)\n",
    "test_passenger_df = pd.DataFrame(test_df.PassengerId)\n",
    "test_df = test_df.drop(drop_list,axis=1)\n",
    "\n",
    "test_passenger_df.head()"
   ]
  },
  {
   "cell_type": "markdown",
   "metadata": {
    "_uuid": "a0e7b9ec7a4d828b4aec79be79a7acc039190adc"
   },
   "source": [
    "Now, let's fill in the missing values for Embarked column in the training dataset. Most people embarked on their journey from Southhampton port. Hence, we will be filling the  two missing values with \"S\""
   ]
  },
  {
   "cell_type": "code",
   "execution_count": 71,
   "metadata": {
    "_uuid": "6dc50aac4030b5abe4c44c90643647ec4190bed5",
    "execution": {
     "iopub.execute_input": "2022-09-25T09:34:20.350175Z",
     "iopub.status.busy": "2022-09-25T09:34:20.349831Z",
     "iopub.status.idle": "2022-09-25T09:34:20.356250Z",
     "shell.execute_reply": "2022-09-25T09:34:20.355148Z",
     "shell.execute_reply.started": "2022-09-25T09:34:20.350120Z"
    }
   },
   "outputs": [],
   "source": [
    "#filling the missing Embarked values in train and test datasets\n",
    "train_df.Embarked.fillna('S',inplace=True)"
   ]
  },
  {
   "cell_type": "markdown",
   "metadata": {
    "_uuid": "d7ddccf978f3db5a66e821388ffb087b447de7d4"
   },
   "source": [
    "We will replace the NaN values in the age column with the median age"
   ]
  },
  {
   "cell_type": "code",
   "execution_count": 72,
   "metadata": {
    "_uuid": "faa342aaaa6d2f11ae263c550452e641d843cf93",
    "execution": {
     "iopub.execute_input": "2022-09-25T09:34:20.358468Z",
     "iopub.status.busy": "2022-09-25T09:34:20.358121Z",
     "iopub.status.idle": "2022-09-25T09:34:20.366664Z",
     "shell.execute_reply": "2022-09-25T09:34:20.365778Z",
     "shell.execute_reply.started": "2022-09-25T09:34:20.358403Z"
    }
   },
   "outputs": [],
   "source": [
    "#filling the missing values in the Age column\n",
    "train_df.Age.fillna(28, inplace=True)\n",
    "test_df.Age.fillna(28, inplace=True)"
   ]
  },
  {
   "cell_type": "code",
   "execution_count": 73,
   "metadata": {
    "_uuid": "79990f4df37e08d1e098ef100039d6798d713cdd",
    "execution": {
     "iopub.execute_input": "2022-09-25T09:34:20.368024Z",
     "iopub.status.busy": "2022-09-25T09:34:20.367723Z",
     "iopub.status.idle": "2022-09-25T09:34:20.377808Z",
     "shell.execute_reply": "2022-09-25T09:34:20.377021Z",
     "shell.execute_reply.started": "2022-09-25T09:34:20.367971Z"
    }
   },
   "outputs": [],
   "source": [
    "#Filling the null Fare values in test dataset\n",
    "test_df.Fare.fillna(test_df.Fare.median(), inplace=True)"
   ]
  },
  {
   "cell_type": "code",
   "execution_count": 74,
   "metadata": {
    "_uuid": "a7444c8ba9326f32e1834194a2eb8bfc15b469e3",
    "execution": {
     "iopub.execute_input": "2022-09-25T09:34:20.380087Z",
     "iopub.status.busy": "2022-09-25T09:34:20.379576Z",
     "iopub.status.idle": "2022-09-25T09:34:20.414933Z",
     "shell.execute_reply": "2022-09-25T09:34:20.413903Z",
     "shell.execute_reply.started": "2022-09-25T09:34:20.380003Z"
    }
   },
   "outputs": [],
   "source": [
    "#combining train and test dataframes to work with them simultaneously\n",
    "Combined_data = [train_df, test_df]"
   ]
  },
  {
   "cell_type": "code",
   "execution_count": 75,
   "metadata": {
    "_uuid": "a50bc02596f2835f51c893e6f0998210beaf20a4",
    "execution": {
     "iopub.execute_input": "2022-09-25T09:34:20.416996Z",
     "iopub.status.busy": "2022-09-25T09:34:20.416410Z",
     "iopub.status.idle": "2022-09-25T09:34:20.616024Z",
     "shell.execute_reply": "2022-09-25T09:34:20.615141Z",
     "shell.execute_reply.started": "2022-09-25T09:34:20.416931Z"
    }
   },
   "outputs": [
    {
     "data": {
      "text/plain": [
       "<matplotlib.axes._subplots.AxesSubplot at 0x7feaf66a1668>"
      ]
     },
     "execution_count": 75,
     "metadata": {},
     "output_type": "execute_result"
    },
    {
     "data": {
      "image/png": "[encoded data removed]",
      "text/plain": [
       "<matplotlib.figure.Figure at 0x7feaf66ed128>"
      ]
     },
     "metadata": {},
     "output_type": "display_data"
    }
   ],
   "source": [
    "#extracting the various title in Names column\n",
    "for dataset in Combined_data:\n",
    "    dataset['Title'] = dataset.Name.str.extract(' ([A-Za-z]+)\\.', expand=False)\n",
    "\n",
    "#Plotting the various titles extracted from the names    \n",
    "sns.countplot(y='Title',data=train_df)  "
   ]
  },
  {
   "cell_type": "code",
   "execution_count": 76,
   "metadata": {
    "_uuid": "5f6b73547cc98beb4ac124e3917a3e934a4e0d6d",
    "execution": {
     "iopub.execute_input": "2022-09-25T09:34:20.617955Z",
     "iopub.status.busy": "2022-09-25T09:34:20.617405Z",
     "iopub.status.idle": "2022-09-25T09:34:20.649906Z",
     "shell.execute_reply": "2022-09-25T09:34:20.649090Z",
     "shell.execute_reply.started": "2022-09-25T09:34:20.617890Z"
    }
   },
   "outputs": [
    {
     "data": {
      "text/html": [
       "<div>\n",
       "<style scoped>\n",
       "    .dataframe tbody tr th:only-of-type {\n",
       "        vertical-align: middle;\n",
       "    }\n",
       "\n",
       "    .dataframe tbody tr th {\n",
       "        vertical-align: top;\n",
       "    }\n",
       "\n",
       "    .dataframe thead th {\n",
       "        text-align: right;\n",
       "    }\n",
       "</style>\n",
       "<table border=\"1\" class=\"dataframe\">\n",
       "  <thead>\n",
       "    <tr style=\"text-align: right;\">\n",
       "      <th></th>\n",
       "      <th>Title</th>\n",
       "      <th>Survived</th>\n",
       "    </tr>\n",
       "  </thead>\n",
       "  <tbody>\n",
       "    <tr>\n",
       "      <th>3</th>\n",
       "      <td>Mrs</td>\n",
       "      <td>0.793651</td>\n",
       "    </tr>\n",
       "    <tr>\n",
       "      <th>1</th>\n",
       "      <td>Miss</td>\n",
       "      <td>0.702703</td>\n",
       "    </tr>\n",
       "    <tr>\n",
       "      <th>0</th>\n",
       "      <td>Master</td>\n",
       "      <td>0.575000</td>\n",
       "    </tr>\n",
       "    <tr>\n",
       "      <th>4</th>\n",
       "      <td>Special</td>\n",
       "      <td>0.347826</td>\n",
       "    </tr>\n",
       "    <tr>\n",
       "      <th>2</th>\n",
       "      <td>Mr</td>\n",
       "      <td>0.156673</td>\n",
       "    </tr>\n",
       "  </tbody>\n",
       "</table>\n",
       "</div>"
      ],
      "text/plain": [
       "     Title  Survived\n",
       "3      Mrs  0.793651\n",
       "1     Miss  0.702703\n",
       "0   Master  0.575000\n",
       "4  Special  0.347826\n",
       "2       Mr  0.156673"
      ]
     },
     "execution_count": 76,
     "metadata": {},
     "output_type": "execute_result"
    }
   ],
   "source": [
    "#Refining the title feature by merging some titles\n",
    "for dataset in Combined_data:\n",
    "    dataset['Title'] = dataset['Title'].replace(['Lady', 'Countess','Capt', 'Col',\\\n",
    " \t'Don', 'Dr', 'Major', 'Rev', 'Sir', 'Jonkheer', 'Dona'], 'Special')\n",
    "\n",
    "    dataset['Title'] = dataset['Title'].replace({'Mlle':'Miss','Ms':'Miss','Mme':'Mrs'})\n",
    "    \n",
    "train_df.groupby('Title',as_index=False)['Survived'].mean().sort_values(by='Survived',ascending=False)"
   ]
  },
  {
   "cell_type": "code",
   "execution_count": 77,
   "metadata": {
    "_uuid": "7c88ab6acb9f99174f493273d0a70c512d65c0aa",
    "execution": {
     "iopub.execute_input": "2022-09-25T09:34:20.651670Z",
     "iopub.status.busy": "2022-09-25T09:34:20.651299Z",
     "iopub.status.idle": "2022-09-25T09:34:20.796161Z",
     "shell.execute_reply": "2022-09-25T09:34:20.795269Z",
     "shell.execute_reply.started": "2022-09-25T09:34:20.651601Z"
    }
   },
   "outputs": [
    {
     "data": {
      "text/plain": [
       "<matplotlib.axes._subplots.AxesSubplot at 0x7feaf660df60>"
      ]
     },
     "execution_count": 77,
     "metadata": {},
     "output_type": "execute_result"
    },
    {
     "data": {
      "image/png": "[encoded data removed]",
      "text/plain": [
       "<matplotlib.figure.Figure at 0x7feaf6691c88>"
      ]
     },
     "metadata": {},
     "output_type": "display_data"
    }
   ],
   "source": [
    "#Now lets see the distribution of the title feature\n",
    "sns.countplot(y='Title',data=train_df)"
   ]
  },
  {
   "cell_type": "code",
   "execution_count": 78,
   "metadata": {
    "_uuid": "fed54564cffc62dc074787018297a1e439cab100",
    "execution": {
     "iopub.execute_input": "2022-09-25T09:34:20.797979Z",
     "iopub.status.busy": "2022-09-25T09:34:20.797634Z",
     "iopub.status.idle": "2022-09-25T09:34:20.819900Z",
     "shell.execute_reply": "2022-09-25T09:34:20.818834Z",
     "shell.execute_reply.started": "2022-09-25T09:34:20.797914Z"
    }
   },
   "outputs": [],
   "source": [
    "#Mapping the title names to numeric values\n",
    "title_mapping = {\"Mr\": 1, \"Miss\": 2, \"Mrs\": 3, \"Master\": 4, \"Special\": 5}\n",
    "for dataset in Combined_data:\n",
    "    dataset['Title'] = dataset.Title.map(title_mapping)\n",
    "    dataset['Title'] = dataset.Title.fillna(0)"
   ]
  },
  {
   "cell_type": "markdown",
   "metadata": {
    "_uuid": "64d1983bade22173e529ff6f4b6d282fbd1f0b4b"
   },
   "source": [
    "Next we are creating a feature IsAlone which depends on the number of family members, that can be calculated from the Parch and SibSp columns of the train data"
   ]
  },
  {
   "cell_type": "code",
   "execution_count": 79,
   "metadata": {
    "_uuid": "7ce6b12d940fe9be965b70feed008c8ac2676dfd",
    "execution": {
     "iopub.execute_input": "2022-09-25T09:34:20.823453Z",
     "iopub.status.busy": "2022-09-25T09:34:20.823167Z",
     "iopub.status.idle": "2022-09-25T09:34:20.866715Z",
     "shell.execute_reply": "2022-09-25T09:34:20.865815Z",
     "shell.execute_reply.started": "2022-09-25T09:34:20.823399Z"
    }
   },
   "outputs": [
    {
     "data": {
      "text/html": [
       "<div>\n",
       "<style scoped>\n",
       "    .dataframe tbody tr th:only-of-type {\n",
       "        vertical-align: middle;\n",
       "    }\n",
       "\n",
       "    .dataframe tbody tr th {\n",
       "        vertical-align: top;\n",
       "    }\n",
       "\n",
       "    .dataframe thead th {\n",
       "        text-align: right;\n",
       "    }\n",
       "</style>\n",
       "<table border=\"1\" class=\"dataframe\">\n",
       "  <thead>\n",
       "    <tr style=\"text-align: right;\">\n",
       "      <th></th>\n",
       "      <th>Survived</th>\n",
       "      <th>Pclass</th>\n",
       "      <th>Name</th>\n",
       "      <th>Sex</th>\n",
       "      <th>Age</th>\n",
       "      <th>SibSp</th>\n",
       "      <th>Parch</th>\n",
       "      <th>Fare</th>\n",
       "      <th>Embarked</th>\n",
       "      <th>Title</th>\n",
       "      <th>IsAlone</th>\n",
       "    </tr>\n",
       "  </thead>\n",
       "  <tbody>\n",
       "    <tr>\n",
       "      <th>0</th>\n",
       "      <td>0</td>\n",
       "      <td>3</td>\n",
       "      <td>Braund, Mr. Owen Harris</td>\n",
       "      <td>male</td>\n",
       "      <td>22.0</td>\n",
       "      <td>1</td>\n",
       "      <td>0</td>\n",
       "      <td>7.2500</td>\n",
       "      <td>S</td>\n",
       "      <td>1</td>\n",
       "      <td>0</td>\n",
       "    </tr>\n",
       "    <tr>\n",
       "      <th>1</th>\n",
       "      <td>1</td>\n",
       "      <td>1</td>\n",
       "      <td>Cumings, Mrs. John Bradley (Florence Briggs Th...</td>\n",
       "      <td>female</td>\n",
       "      <td>38.0</td>\n",
       "      <td>1</td>\n",
       "      <td>0</td>\n",
       "      <td>71.2833</td>\n",
       "      <td>C</td>\n",
       "      <td>3</td>\n",
       "      <td>0</td>\n",
       "    </tr>\n",
       "    <tr>\n",
       "      <th>2</th>\n",
       "      <td>1</td>\n",
       "      <td>3</td>\n",
       "      <td>Heikkinen, Miss. Laina</td>\n",
       "      <td>female</td>\n",
       "      <td>26.0</td>\n",
       "      <td>0</td>\n",
       "      <td>0</td>\n",
       "      <td>7.9250</td>\n",
       "      <td>S</td>\n",
       "      <td>2</td>\n",
       "      <td>1</td>\n",
       "    </tr>\n",
       "    <tr>\n",
       "      <th>3</th>\n",
       "      <td>1</td>\n",
       "      <td>1</td>\n",
       "      <td>Futrelle, Mrs. Jacques Heath (Lily May Peel)</td>\n",
       "      <td>female</td>\n",
       "      <td>35.0</td>\n",
       "      <td>1</td>\n",
       "      <td>0</td>\n",
       "      <td>53.1000</td>\n",
       "      <td>S</td>\n",
       "      <td>3</td>\n",
       "      <td>0</td>\n",
       "    </tr>\n",
       "    <tr>\n",
       "      <th>4</th>\n",
       "      <td>0</td>\n",
       "      <td>3</td>\n",
       "      <td>Allen, Mr. William Henry</td>\n",
       "      <td>male</td>\n",
       "      <td>35.0</td>\n",
       "      <td>0</td>\n",
       "      <td>0</td>\n",
       "      <td>8.0500</td>\n",
       "      <td>S</td>\n",
       "      <td>1</td>\n",
       "      <td>1</td>\n",
       "    </tr>\n",
       "  </tbody>\n",
       "</table>\n",
       "</div>"
      ],
      "text/plain": [
       "   Survived  Pclass   ...   Title IsAlone\n",
       "0         0       3   ...       1       0\n",
       "1         1       1   ...       3       0\n",
       "2         1       3   ...       2       1\n",
       "3         1       1   ...       3       0\n",
       "4         0       3   ...       1       1\n",
       "\n",
       "[5 rows x 11 columns]"
      ]
     },
     "execution_count": 79,
     "metadata": {},
     "output_type": "execute_result"
    }
   ],
   "source": [
    "#Creating a new feature IsAlone from the SibSp and Parch columns\n",
    "for dataset in Combined_data:\n",
    "    dataset[\"Family\"] = dataset['SibSp'] + dataset['Parch']\n",
    "    dataset[\"IsAlone\"] = np.where(dataset[\"Family\"] > 0, 0,1)\n",
    "    dataset.drop('Family',axis=1,inplace=True)\n",
    "train_df.head()    "
   ]
  },
  {
   "cell_type": "code",
   "execution_count": 80,
   "metadata": {
    "_uuid": "6f954f15f3d7305a68820511912f53c9f229c9ab",
    "execution": {
     "iopub.execute_input": "2022-09-25T09:34:20.868801Z",
     "iopub.status.busy": "2022-09-25T09:34:20.868185Z",
     "iopub.status.idle": "2022-09-25T09:34:20.877194Z",
     "shell.execute_reply": "2022-09-25T09:34:20.876258Z",
     "shell.execute_reply.started": "2022-09-25T09:34:20.868738Z"
    }
   },
   "outputs": [],
   "source": [
    "#dropping the Name,SibSP and Parch columns \n",
    "for dataset in Combined_data:\n",
    "    dataset.drop(['SibSp','Parch','Name'],axis=1,inplace=True)  "
   ]
  },
  {
   "cell_type": "markdown",
   "metadata": {
    "_uuid": "e96caee826dbef0b2155462583a1fac2696f6cf2"
   },
   "source": [
    "Age had big role to play when it came to survival. Clearly younger individuals were more likely to survive.\n",
    "Hence, it should be worth considering a feature Is Minor for the passengers under the age of 15."
   ]
  },
  {
   "cell_type": "code",
   "execution_count": 81,
   "metadata": {
    "_uuid": "7b865b112b837b5a3347461a4a78af074c88f5d7",
    "execution": {
     "iopub.execute_input": "2022-09-25T09:34:20.880945Z",
     "iopub.status.busy": "2022-09-25T09:34:20.880634Z",
     "iopub.status.idle": "2022-09-25T09:34:20.890007Z",
     "shell.execute_reply": "2022-09-25T09:34:20.889254Z",
     "shell.execute_reply.started": "2022-09-25T09:34:20.880880Z"
    }
   },
   "outputs": [],
   "source": [
    "#Creating another feature if the passenger is a child\n",
    "for dataset in Combined_data:\n",
    "    dataset[\"IsMinor\"] = np.where(dataset[\"Age\"] < 15, 1, 0)"
   ]
  },
  {
   "cell_type": "markdown",
   "metadata": {
    "_uuid": "e8ad94332647b489198bec0249e9cce3f3851268"
   },
   "source": [
    "Older female passengers also had a higher chance of survival. Let's create a feature name Old_female that would account for women older tha 50 years on board"
   ]
  },
  {
   "cell_type": "code",
   "execution_count": 82,
   "metadata": {
    "_uuid": "e93bcc0fab6827b99b13bbcfcf2f079ca494b640",
    "execution": {
     "iopub.execute_input": "2022-09-25T09:34:20.893705Z",
     "iopub.status.busy": "2022-09-25T09:34:20.893332Z",
     "iopub.status.idle": "2022-09-25T09:34:20.926921Z",
     "shell.execute_reply": "2022-09-25T09:34:20.925815Z",
     "shell.execute_reply.started": "2022-09-25T09:34:20.893645Z"
    }
   },
   "outputs": [],
   "source": [
    "train_df['Old_Female'] = (train_df['Age']>50)&(train_df['Sex']=='female')\n",
    "train_df['Old_Female'] = train_df['Old_Female'].astype(int)\n",
    "\n",
    "test_df['Old_Female'] = (test_df['Age']>50)&(test_df['Sex']=='female')\n",
    "test_df['Old_Female'] = test_df['Old_Female'].astype(int)"
   ]
  },
  {
   "cell_type": "markdown",
   "metadata": {
    "_uuid": "6c10680f0d2843b13ea49a4836e3c342d9b012eb"
   },
   "source": [
    "Pclass, Sex and Embarked are the categorical features in our data. we can convert these categorucal variables into dummy variables using the *get_dummies* method in python"
   ]
  },
  {
   "cell_type": "code",
   "execution_count": 83,
   "metadata": {
    "_uuid": "d08ee65977405cb89d4cde56dd887ee67f0679d6",
    "execution": {
     "iopub.execute_input": "2022-09-25T09:34:20.928777Z",
     "iopub.status.busy": "2022-09-25T09:34:20.928386Z",
     "iopub.status.idle": "2022-09-25T09:34:20.976073Z",
     "shell.execute_reply": "2022-09-25T09:34:20.975139Z",
     "shell.execute_reply.started": "2022-09-25T09:34:20.928707Z"
    }
   },
   "outputs": [
    {
     "data": {
      "text/html": [
       "<div>\n",
       "<style scoped>\n",
       "    .dataframe tbody tr th:only-of-type {\n",
       "        vertical-align: middle;\n",
       "    }\n",
       "\n",
       "    .dataframe tbody tr th {\n",
       "        vertical-align: top;\n",
       "    }\n",
       "\n",
       "    .dataframe thead th {\n",
       "        text-align: right;\n",
       "    }\n",
       "</style>\n",
       "<table border=\"1\" class=\"dataframe\">\n",
       "  <thead>\n",
       "    <tr style=\"text-align: right;\">\n",
       "      <th></th>\n",
       "      <th>Survived</th>\n",
       "      <th>Age</th>\n",
       "      <th>Fare</th>\n",
       "      <th>Title</th>\n",
       "      <th>IsAlone</th>\n",
       "      <th>IsMinor</th>\n",
       "      <th>Old_Female</th>\n",
       "      <th>Pclass_2</th>\n",
       "      <th>Pclass_3</th>\n",
       "      <th>Sex_male</th>\n",
       "      <th>Embarked_Q</th>\n",
       "      <th>Embarked_S</th>\n",
       "    </tr>\n",
       "  </thead>\n",
       "  <tbody>\n",
       "    <tr>\n",
       "      <th>0</th>\n",
       "      <td>0</td>\n",
       "      <td>22.0</td>\n",
       "      <td>7.2500</td>\n",
       "      <td>1</td>\n",
       "      <td>0</td>\n",
       "      <td>0</td>\n",
       "      <td>0</td>\n",
       "      <td>0</td>\n",
       "      <td>1</td>\n",
       "      <td>1</td>\n",
       "      <td>0</td>\n",
       "      <td>1</td>\n",
       "    </tr>\n",
       "    <tr>\n",
       "      <th>1</th>\n",
       "      <td>1</td>\n",
       "      <td>38.0</td>\n",
       "      <td>71.2833</td>\n",
       "      <td>3</td>\n",
       "      <td>0</td>\n",
       "      <td>0</td>\n",
       "      <td>0</td>\n",
       "      <td>0</td>\n",
       "      <td>0</td>\n",
       "      <td>0</td>\n",
       "      <td>0</td>\n",
       "      <td>0</td>\n",
       "    </tr>\n",
       "    <tr>\n",
       "      <th>2</th>\n",
       "      <td>1</td>\n",
       "      <td>26.0</td>\n",
       "      <td>7.9250</td>\n",
       "      <td>2</td>\n",
       "      <td>1</td>\n",
       "      <td>0</td>\n",
       "      <td>0</td>\n",
       "      <td>0</td>\n",
       "      <td>1</td>\n",
       "      <td>0</td>\n",
       "      <td>0</td>\n",
       "      <td>1</td>\n",
       "    </tr>\n",
       "    <tr>\n",
       "      <th>3</th>\n",
       "      <td>1</td>\n",
       "      <td>35.0</td>\n",
       "      <td>53.1000</td>\n",
       "      <td>3</td>\n",
       "      <td>0</td>\n",
       "      <td>0</td>\n",
       "      <td>0</td>\n",
       "      <td>0</td>\n",
       "      <td>0</td>\n",
       "      <td>0</td>\n",
       "      <td>0</td>\n",
       "      <td>1</td>\n",
       "    </tr>\n",
       "    <tr>\n",
       "      <th>4</th>\n",
       "      <td>0</td>\n",
       "      <td>35.0</td>\n",
       "      <td>8.0500</td>\n",
       "      <td>1</td>\n",
       "      <td>1</td>\n",
       "      <td>0</td>\n",
       "      <td>0</td>\n",
       "      <td>0</td>\n",
       "      <td>1</td>\n",
       "      <td>1</td>\n",
       "      <td>0</td>\n",
       "      <td>1</td>\n",
       "    </tr>\n",
       "  </tbody>\n",
       "</table>\n",
       "</div>"
      ],
      "text/plain": [
       "   Survived   Age     Fare     ...      Sex_male  Embarked_Q  Embarked_S\n",
       "0         0  22.0   7.2500     ...             1           0           1\n",
       "1         1  38.0  71.2833     ...             0           0           0\n",
       "2         1  26.0   7.9250     ...             0           0           1\n",
       "3         1  35.0  53.1000     ...             0           0           1\n",
       "4         0  35.0   8.0500     ...             1           0           1\n",
       "\n",
       "[5 rows x 12 columns]"
      ]
     },
     "execution_count": 83,
     "metadata": {},
     "output_type": "execute_result"
    }
   ],
   "source": [
    "#Converting categorical variables into numerical ones\n",
    "train_df2 = pd.get_dummies(train_df,columns=['Pclass','Sex','Embarked'],drop_first=True)\n",
    "test_df2 = pd.get_dummies(test_df,columns=['Pclass','Sex','Embarked'],drop_first=True)\n",
    "train_df2.head()"
   ]
  },
  {
   "cell_type": "code",
   "execution_count": 84,
   "metadata": {
    "_uuid": "e3c1675ab1b6293e5caf3e3f5813727eea8e0832",
    "execution": {
     "iopub.execute_input": "2022-09-25T09:34:20.977931Z",
     "iopub.status.busy": "2022-09-25T09:34:20.977570Z",
     "iopub.status.idle": "2022-09-25T09:34:20.989684Z",
     "shell.execute_reply": "2022-09-25T09:34:20.988790Z",
     "shell.execute_reply.started": "2022-09-25T09:34:20.977863Z"
    }
   },
   "outputs": [],
   "source": [
    "#creating Age bands in the data\n",
    "train_df2['AgeBands'] = pd.qcut(train_df2.Age,4,labels=False) \n",
    "test_df2['AgeBands'] = pd.qcut(test_df2.Age,4,labels=False) "
   ]
  },
  {
   "cell_type": "code",
   "execution_count": 85,
   "metadata": {
    "_uuid": "af68cdedb7e7b1959d88fac999536b42aa8be1d7",
    "execution": {
     "iopub.execute_input": "2022-09-25T09:34:21.015142Z",
     "iopub.status.busy": "2022-09-25T09:34:21.014263Z",
     "iopub.status.idle": "2022-09-25T09:34:21.027054Z",
     "shell.execute_reply": "2022-09-25T09:34:21.026202Z",
     "shell.execute_reply.started": "2022-09-25T09:34:21.015069Z"
    }
   },
   "outputs": [],
   "source": [
    "#creating Fare bands in the data\n",
    "train_df2['FareBand'] = pd.qcut(train_df2.Fare,7,labels=False)\n",
    "test_df2['FareBand'] = pd.qcut(test_df2.Fare,7,labels=False)"
   ]
  },
  {
   "cell_type": "code",
   "execution_count": 86,
   "metadata": {
    "_uuid": "afdb50313a6382ce22541292d77fdf81210fb866",
    "execution": {
     "iopub.execute_input": "2022-09-25T09:34:21.029670Z",
     "iopub.status.busy": "2022-09-25T09:34:21.028241Z",
     "iopub.status.idle": "2022-09-25T09:34:21.039357Z",
     "shell.execute_reply": "2022-09-25T09:34:21.038556Z",
     "shell.execute_reply.started": "2022-09-25T09:34:21.029604Z"
    }
   },
   "outputs": [],
   "source": [
    "#Dropping the Age and Fare columns\n",
    "train_df2.drop(['Age','Fare'],axis=1,inplace=True)\n",
    "test_df2.drop(['Age','Fare'],axis=1,inplace=True)"
   ]
  },
  {
   "cell_type": "code",
   "execution_count": 87,
   "metadata": {
    "_uuid": "297a5a9578f8975dfddc73210f7f9d864ee170c1",
    "execution": {
     "iopub.execute_input": "2022-09-25T09:34:21.043236Z",
     "iopub.status.busy": "2022-09-25T09:34:21.042779Z",
     "iopub.status.idle": "2022-09-25T09:34:21.072825Z",
     "shell.execute_reply": "2022-09-25T09:34:21.071652Z",
     "shell.execute_reply.started": "2022-09-25T09:34:21.043176Z"
    }
   },
   "outputs": [
    {
     "data": {
      "text/html": [
       "<div>\n",
       "<style scoped>\n",
       "    .dataframe tbody tr th:only-of-type {\n",
       "        vertical-align: middle;\n",
       "    }\n",
       "\n",
       "    .dataframe tbody tr th {\n",
       "        vertical-align: top;\n",
       "    }\n",
       "\n",
       "    .dataframe thead th {\n",
       "        text-align: right;\n",
       "    }\n",
       "</style>\n",
       "<table border=\"1\" class=\"dataframe\">\n",
       "  <thead>\n",
       "    <tr style=\"text-align: right;\">\n",
       "      <th></th>\n",
       "      <th>Survived</th>\n",
       "      <th>Title</th>\n",
       "      <th>IsAlone</th>\n",
       "      <th>IsMinor</th>\n",
       "      <th>Old_Female</th>\n",
       "      <th>Pclass_2</th>\n",
       "      <th>Pclass_3</th>\n",
       "      <th>Sex_male</th>\n",
       "      <th>Embarked_Q</th>\n",
       "      <th>Embarked_S</th>\n",
       "      <th>AgeBands</th>\n",
       "      <th>FareBand</th>\n",
       "    </tr>\n",
       "  </thead>\n",
       "  <tbody>\n",
       "    <tr>\n",
       "      <th>0</th>\n",
       "      <td>0</td>\n",
       "      <td>1</td>\n",
       "      <td>0</td>\n",
       "      <td>0</td>\n",
       "      <td>0</td>\n",
       "      <td>0</td>\n",
       "      <td>1</td>\n",
       "      <td>1</td>\n",
       "      <td>0</td>\n",
       "      <td>1</td>\n",
       "      <td>0</td>\n",
       "      <td>0</td>\n",
       "    </tr>\n",
       "    <tr>\n",
       "      <th>1</th>\n",
       "      <td>1</td>\n",
       "      <td>3</td>\n",
       "      <td>0</td>\n",
       "      <td>0</td>\n",
       "      <td>0</td>\n",
       "      <td>0</td>\n",
       "      <td>0</td>\n",
       "      <td>0</td>\n",
       "      <td>0</td>\n",
       "      <td>0</td>\n",
       "      <td>3</td>\n",
       "      <td>6</td>\n",
       "    </tr>\n",
       "    <tr>\n",
       "      <th>2</th>\n",
       "      <td>1</td>\n",
       "      <td>2</td>\n",
       "      <td>1</td>\n",
       "      <td>0</td>\n",
       "      <td>0</td>\n",
       "      <td>0</td>\n",
       "      <td>1</td>\n",
       "      <td>0</td>\n",
       "      <td>0</td>\n",
       "      <td>1</td>\n",
       "      <td>1</td>\n",
       "      <td>1</td>\n",
       "    </tr>\n",
       "    <tr>\n",
       "      <th>3</th>\n",
       "      <td>1</td>\n",
       "      <td>3</td>\n",
       "      <td>0</td>\n",
       "      <td>0</td>\n",
       "      <td>0</td>\n",
       "      <td>0</td>\n",
       "      <td>0</td>\n",
       "      <td>0</td>\n",
       "      <td>0</td>\n",
       "      <td>1</td>\n",
       "      <td>2</td>\n",
       "      <td>5</td>\n",
       "    </tr>\n",
       "    <tr>\n",
       "      <th>4</th>\n",
       "      <td>0</td>\n",
       "      <td>1</td>\n",
       "      <td>1</td>\n",
       "      <td>0</td>\n",
       "      <td>0</td>\n",
       "      <td>0</td>\n",
       "      <td>1</td>\n",
       "      <td>1</td>\n",
       "      <td>0</td>\n",
       "      <td>1</td>\n",
       "      <td>2</td>\n",
       "      <td>1</td>\n",
       "    </tr>\n",
       "  </tbody>\n",
       "</table>\n",
       "</div>"
      ],
      "text/plain": [
       "   Survived  Title  IsAlone    ...     Embarked_S  AgeBands  FareBand\n",
       "0         0      1        0    ...              1         0         0\n",
       "1         1      3        0    ...              0         3         6\n",
       "2         1      2        1    ...              1         1         1\n",
       "3         1      3        0    ...              1         2         5\n",
       "4         0      1        1    ...              1         2         1\n",
       "\n",
       "[5 rows x 12 columns]"
      ]
     },
     "execution_count": 87,
     "metadata": {},
     "output_type": "execute_result"
    }
   ],
   "source": [
    "train_df2.head()\n",
    "sns.barplot('AgeBands','Survived',data=train_df2)"
   ]
  },
  {
   "cell_type": "code",
   "execution_count": 88,
   "metadata": {
    "_uuid": "2245e77e8bca32c98996abd9c1e51a61673a34de",
    "execution": {
     "iopub.execute_input": "2022-09-25T09:34:21.074533Z",
     "iopub.status.busy": "2022-09-25T09:34:21.074047Z",
     "iopub.status.idle": "2022-09-25T09:34:21.126582Z",
     "shell.execute_reply": "2022-09-25T09:34:21.125661Z",
     "shell.execute_reply.started": "2022-09-25T09:34:21.074451Z"
    }
   },
   "outputs": [
    {
     "data": {
      "text/html": [
       "<div>\n",
       "<style scoped>\n",
       "    .dataframe tbody tr th:only-of-type {\n",
       "        vertical-align: middle;\n",
       "    }\n",
       "\n",
       "    .dataframe tbody tr th {\n",
       "        vertical-align: top;\n",
       "    }\n",
       "\n",
       "    .dataframe thead th {\n",
       "        text-align: right;\n",
       "    }\n",
       "</style>\n",
       "<table border=\"1\" class=\"dataframe\">\n",
       "  <thead>\n",
       "    <tr style=\"text-align: right;\">\n",
       "      <th></th>\n",
       "      <th>Title</th>\n",
       "      <th>IsAlone</th>\n",
       "      <th>IsMinor</th>\n",
       "      <th>Old_Female</th>\n",
       "      <th>Pclass_2</th>\n",
       "      <th>Pclass_3</th>\n",
       "      <th>Sex_male</th>\n",
       "      <th>Embarked_Q</th>\n",
       "      <th>Embarked_S</th>\n",
       "      <th>AgeBands</th>\n",
       "      <th>FareBand</th>\n",
       "    </tr>\n",
       "  </thead>\n",
       "  <tbody>\n",
       "    <tr>\n",
       "      <th>0</th>\n",
       "      <td>1</td>\n",
       "      <td>1</td>\n",
       "      <td>0</td>\n",
       "      <td>0</td>\n",
       "      <td>0</td>\n",
       "      <td>1</td>\n",
       "      <td>1</td>\n",
       "      <td>1</td>\n",
       "      <td>0</td>\n",
       "      <td>2</td>\n",
       "      <td>1</td>\n",
       "    </tr>\n",
       "    <tr>\n",
       "      <th>1</th>\n",
       "      <td>3</td>\n",
       "      <td>0</td>\n",
       "      <td>0</td>\n",
       "      <td>0</td>\n",
       "      <td>0</td>\n",
       "      <td>1</td>\n",
       "      <td>0</td>\n",
       "      <td>0</td>\n",
       "      <td>1</td>\n",
       "      <td>3</td>\n",
       "      <td>0</td>\n",
       "    </tr>\n",
       "    <tr>\n",
       "      <th>2</th>\n",
       "      <td>1</td>\n",
       "      <td>1</td>\n",
       "      <td>0</td>\n",
       "      <td>0</td>\n",
       "      <td>1</td>\n",
       "      <td>0</td>\n",
       "      <td>1</td>\n",
       "      <td>1</td>\n",
       "      <td>0</td>\n",
       "      <td>3</td>\n",
       "      <td>2</td>\n",
       "    </tr>\n",
       "    <tr>\n",
       "      <th>3</th>\n",
       "      <td>1</td>\n",
       "      <td>1</td>\n",
       "      <td>0</td>\n",
       "      <td>0</td>\n",
       "      <td>0</td>\n",
       "      <td>1</td>\n",
       "      <td>1</td>\n",
       "      <td>0</td>\n",
       "      <td>1</td>\n",
       "      <td>1</td>\n",
       "      <td>2</td>\n",
       "    </tr>\n",
       "    <tr>\n",
       "      <th>4</th>\n",
       "      <td>3</td>\n",
       "      <td>0</td>\n",
       "      <td>0</td>\n",
       "      <td>0</td>\n",
       "      <td>0</td>\n",
       "      <td>1</td>\n",
       "      <td>0</td>\n",
       "      <td>0</td>\n",
       "      <td>1</td>\n",
       "      <td>0</td>\n",
       "      <td>2</td>\n",
       "    </tr>\n",
       "  </tbody>\n",
       "</table>\n",
       "</div>"
      ],
      "text/plain": [
       "   Title  IsAlone  IsMinor    ...     Embarked_S  AgeBands  FareBand\n",
       "0      1        1        0    ...              0         2         1\n",
       "1      3        0        0    ...              1         3         0\n",
       "2      1        1        0    ...              0         3         2\n",
       "3      1        1        0    ...              1         1         2\n",
       "4      3        0        0    ...              1         0         2\n",
       "\n",
       "[5 rows x 11 columns]"
      ]
     },
     "execution_count": 88,
     "metadata": {},
     "output_type": "execute_result"
    }
   ],
   "source": [
    "test_df2.head()"
   ]
  },
  {
   "cell_type": "markdown",
   "metadata": {
    "_uuid": "550343a009b9b2cea8cb16aff2c853ffd5114999"
   },
   "source": [
    "Now we try out different classifying model to see which fits the best."
   ]
  },
  {
   "cell_type": "code",
   "execution_count": 89,
   "metadata": {
    "_uuid": "6ce4e5da8b9eed96c3fc1f464ddcac1fbd30555f",
    "execution": {
     "iopub.execute_input": "2022-09-25T09:34:21.128795Z",
     "iopub.status.busy": "2022-09-25T09:34:21.128149Z",
     "iopub.status.idle": "2022-09-25T09:34:21.136438Z",
     "shell.execute_reply": "2022-09-25T09:34:21.135503Z",
     "shell.execute_reply.started": "2022-09-25T09:34:21.128732Z"
    }
   },
   "outputs": [],
   "source": [
    "#importing the required ML libraries in our program\n",
    "from sklearn.linear_model import LogisticRegression\n",
    "from sklearn.tree import DecisionTreeClassifier\n",
    "from sklearn.ensemble import RandomForestClassifier, GradientBoostingClassifier\n",
    "from sklearn.model_selection import train_test_split, cross_val_score, GridSearchCV\n",
    "from sklearn.metrics import accuracy_score"
   ]
  },
  {
   "cell_type": "code",
   "execution_count": 90,
   "metadata": {
    "_uuid": "f1e45a14064d3904a04a70d8ea4295fabfa7dde8",
    "execution": {
     "iopub.execute_input": "2022-09-25T09:34:21.138852Z",
     "iopub.status.busy": "2022-09-25T09:34:21.138078Z",
     "iopub.status.idle": "2022-09-25T09:34:21.150650Z",
     "shell.execute_reply": "2022-09-25T09:34:21.149776Z",
     "shell.execute_reply.started": "2022-09-25T09:34:21.138735Z"
    }
   },
   "outputs": [],
   "source": [
    "#Splitting out training data into X: features and y: target\n",
    "X = train_df2.drop(\"Survived\",axis=1) \n",
    "y = train_df2[\"Survived\"]\n",
    "\n",
    "#splitting our training data again in train and test data\n",
    "X_train, X_test, y_train, y_test = train_test_split(X, y, test_size=0.3,random_state=42)"
   ]
  },
  {
   "cell_type": "code",
   "execution_count": 91,
   "metadata": {
    "_uuid": "647fec750a5707859d1cbab9184cd2da1d7fd3e4",
    "execution": {
     "iopub.execute_input": "2022-09-25T09:34:21.152629Z",
     "iopub.status.busy": "2022-09-25T09:34:21.152148Z",
     "iopub.status.idle": "2022-09-25T09:34:21.167921Z",
     "shell.execute_reply": "2022-09-25T09:34:21.167041Z",
     "shell.execute_reply.started": "2022-09-25T09:34:21.152436Z"
    }
   },
   "outputs": [
    {
     "data": {
      "text/plain": [
       "79.849999999999994"
      ]
     },
     "execution_count": 91,
     "metadata": {},
     "output_type": "execute_result"
    }
   ],
   "source": [
    "#Now we are using theLogisticRegression method\n",
    "logreg = LogisticRegression()\n",
    "logreg.fit(X_train,y_train)\n",
    "y_pred = logreg.predict(X_test)\n",
    "acc_logreg = round(accuracy_score(y_pred, y_test) * 100, 2)\n",
    "acc_logreg"
   ]
  },
  {
   "cell_type": "code",
   "execution_count": 92,
   "metadata": {
    "_uuid": "0ba802b05ebf0c86b9a56e44390e2d30b0803602",
    "execution": {
     "iopub.execute_input": "2022-09-25T09:34:21.169653Z",
     "iopub.status.busy": "2022-09-25T09:34:21.169073Z",
     "iopub.status.idle": "2022-09-25T09:34:21.232647Z",
     "shell.execute_reply": "2022-09-25T09:34:21.231658Z",
     "shell.execute_reply.started": "2022-09-25T09:34:21.169590Z"
    }
   },
   "outputs": [
    {
     "data": {
      "text/plain": [
       "80.02172149882243"
      ]
     },
     "execution_count": 92,
     "metadata": {},
     "output_type": "execute_result"
    }
   ],
   "source": [
    "#validation for logistic Regression\n",
    "cv_scores = cross_val_score(logreg,X,y,cv=5)\n",
    " \n",
    "np.mean(cv_scores)*100"
   ]
  },
  {
   "cell_type": "code",
   "execution_count": 93,
   "metadata": {
    "_uuid": "7dd5e3d8b9294d7c5cd6ae9df62dbc704a1b26ee",
    "execution": {
     "iopub.execute_input": "2022-09-25T09:34:21.234567Z",
     "iopub.status.busy": "2022-09-25T09:34:21.234016Z",
     "iopub.status.idle": "2022-09-25T09:34:21.428672Z",
     "shell.execute_reply": "2022-09-25T09:34:21.427746Z",
     "shell.execute_reply.started": "2022-09-25T09:34:21.234498Z"
    }
   },
   "outputs": [
    {
     "name": "stdout",
     "output_type": "stream",
     "text": [
      "Best value of max_depth: {'max_depth': 4}\n",
      "Best score: 82.379349046\n"
     ]
    }
   ],
   "source": [
    "#Now we are using theDecisionTreeClassifier  method\n",
    "decisiontree = DecisionTreeClassifier()\n",
    "dep = np.arange(1,10)\n",
    "param_grid = {'max_depth' : dep}\n",
    "\n",
    "clf_cv = GridSearchCV(decisiontree, param_grid=param_grid, cv=5)\n",
    "\n",
    "clf_cv.fit(X, y)\n",
    "clf_cv.best_params_,clf_cv.best_score_*100\n",
    "print('Best value of max_depth:',clf_cv.best_params_)\n",
    "print('Best score:',clf_cv.best_score_*100)"
   ]
  },
  {
   "cell_type": "code",
   "execution_count": 94,
   "metadata": {
    "_uuid": "e8f651e0eece9cba1642df1ea368d3aaa947e085",
    "execution": {
     "iopub.execute_input": "2022-09-25T09:34:21.432209Z",
     "iopub.status.busy": "2022-09-25T09:34:21.431914Z",
     "iopub.status.idle": "2022-09-25T09:34:23.273252Z",
     "shell.execute_reply": "2022-09-25T09:34:23.272260Z",
     "shell.execute_reply.started": "2022-09-25T09:34:21.432153Z"
    },
    "scrolled": true
   },
   "outputs": [
    {
     "name": "stdout",
     "output_type": "stream",
     "text": [
      "Best value of n_estimators: {'n_estimators': 15}\n",
      "Best score: 79.1245791246\n"
     ]
    }
   ],
   "source": [
    "#Now we are using the RandomForestCLassifier method\n",
    "\n",
    "random_forest = RandomForestClassifier()\n",
    "ne = np.arange(1,20)\n",
    "param_grid = {'n_estimators' : ne}\n",
    "\n",
    "rf_cv = GridSearchCV(random_forest, param_grid=param_grid, cv=5)\n",
    "\n",
    "rf_cv.fit(X, y)\n",
    "print('Best value of n_estimators:',rf_cv.best_params_)\n",
    "print('Best score:',rf_cv.best_score_*100)"
   ]
  },
  {
   "cell_type": "markdown",
   "metadata": {},
   "source": [
    "We have achieved the best accuracy by the DECISION TREE CLASSIFIER i.e 82.37%"
   ]
  }
 ],
 "metadata": {
  "kernelspec": {
   "display_name": "Python 3 (ipykernel)",
   "language": "python",
   "name": "python3"
  },
  "language_info": {
   "codemirror_mode": {
    "name": "ipython",
    "version": 3
   },
   "file_extension": ".py",
   "mimetype": "text/x-python",
   "name": "python",
   "nbconvert_exporter": "python",
   "pygments_lexer": "ipython3",
   "version": "3.9.12"
  }
 },
 "nbformat": 4,
 "nbformat_minor": 4
}
